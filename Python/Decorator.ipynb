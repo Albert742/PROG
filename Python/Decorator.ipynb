{
 "cells": [
  {
   "cell_type": "markdown",
   "metadata": {},
   "source": [
    "# Decorator"
   ]
  },
  {
   "cell_type": "code",
   "execution_count": 5,
   "metadata": {},
   "outputs": [
    {
     "name": "stdout",
     "output_type": "stream",
     "text": [
      "Sto per chiamare la funzione\n",
      "Ho finito di chiamare la funzione\n",
      "10\n"
     ]
    }
   ],
   "source": [
    "def doppio(n):\n",
    "    return n * 2\n",
    "\n",
    "def modifica(funzione):\n",
    "    def wrapper(*args, **kwargs):\n",
    "        print(\"Sto per chiamare la funzione\")\n",
    "        result = funzione(*args, **kwargs)\n",
    "        print(\"Ho finito di chiamare la funzione\")\n",
    "        return result\n",
    "    return wrapper\n",
    "\n",
    "doppio_modificato = modifica(doppio)\n",
    "print(doppio_modificato(5))"
   ]
  }
 ],
 "metadata": {
  "kernelspec": {
   "display_name": "Python 3",
   "language": "python",
   "name": "python3"
  },
  "language_info": {
   "codemirror_mode": {
    "name": "ipython",
    "version": 3
   },
   "file_extension": ".py",
   "mimetype": "text/x-python",
   "name": "python",
   "nbconvert_exporter": "python",
   "pygments_lexer": "ipython3",
   "version": "3.11.9"
  }
 },
 "nbformat": 4,
 "nbformat_minor": 2
}
