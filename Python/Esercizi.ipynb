{
 "cells": [
  {
   "cell_type": "code",
   "execution_count": 2,
   "metadata": {},
   "outputs": [
    {
     "name": "stdout",
     "output_type": "stream",
     "text": [
      "Nome: Mario, Eta: 30, Genere: M\n",
      "Nome: Mario, Eta: 30, Genere: M, Impiego: Programmatore\n"
     ]
    },
    {
     "data": {
      "text/plain": [
       "Lavoratore(Mario, 30, M, Programmatore)"
      ]
     },
     "execution_count": 2,
     "metadata": {},
     "output_type": "execute_result"
    }
   ],
   "source": [
    "\"\"\"\n",
    "creare una classe persona con attributi nome, età, genere\n",
    "\n",
    "creare una sottoclasse lavoratore derivata dalla classe persona con attributo impiego\n",
    "\"\"\"\n",
    "\n",
    "class Persona:\n",
    "    def __init__(self, nome, eta, genere):\n",
    "        self.nome = nome\n",
    "        self.eta = eta\n",
    "        self.genere = genere\n",
    "    \n",
    "    def __str__(self):\n",
    "        return f\"Nome: {self.nome}, Eta: {self.eta}, Genere: {self.genere}\"\n",
    "    \n",
    "    def __repr__(self):\n",
    "        return f\"Persona({self.nome}, {self.eta}, {self.genere})\"\n",
    "\n",
    "class Lavoratore(Persona):\n",
    "    def __init__(self, nome, eta, genere, impiego):\n",
    "        super().__init__(nome, eta, genere)\n",
    "        self.impiego = impiego\n",
    "    \n",
    "    def __str__(self):\n",
    "        return f\"{super().__str__()}, Impiego: {self.impiego}\"\n",
    "    \n",
    "    def __repr__(self):\n",
    "        return f\"Lavoratore({self.nome}, {self.eta}, {self.genere}, {self.impiego})\"\n",
    "    \n",
    "l = Lavoratore(\"Mario\", 30, \"M\", \"Programmatore\")\n",
    "p = Persona(\"Mario\", 30, \"M\")\n",
    "print(p)\n",
    "print(l)\n"
   ]
  },
  {
   "cell_type": "code",
   "execution_count": 21,
   "metadata": {},
   "outputs": [
    {
     "name": "stdout",
     "output_type": "stream",
     "text": [
      "[Persona(Persona_0, 65, M), Persona(Persona_1, 42, M), Lavoratore(Persona_2, 59, N, Muratore), Persona(Persona_3, 56, M), Lavoratore(Persona_4, 37, M, Medico), Persona(Persona_5, 70, M), Persona(Persona_6, 20, N), Lavoratore(Persona_7, 60, F, Barista), Persona(Persona_8, 54, F), Persona(Persona_9, 21, M), Persona(Persona_10, 18, N), Persona(Persona_11, 41, F), Lavoratore(Persona_12, 38, F, Barista), Persona(Persona_13, 24, M), Persona(Persona_14, 35, N), Persona(Persona_15, 18, N), Lavoratore(Persona_16, 22, M, Medico), Lavoratore(Persona_17, 63, M, Muratore), Lavoratore(Persona_18, 61, N, Barista), Persona(Persona_19, 44, F), Lavoratore(Persona_20, 27, M, Barista), Persona(Persona_21, 70, N), Persona(Persona_22, 57, F), Persona(Persona_23, 33, N), Persona(Persona_24, 19, N), Persona(Persona_25, 36, N), Lavoratore(Persona_26, 54, M, Barista), Lavoratore(Persona_27, 34, F, Barista), Persona(Persona_28, 53, F), Lavoratore(Persona_29, 59, F, Barista), Lavoratore(Persona_30, 23, F, Medico), Lavoratore(Persona_31, 65, F, Medico), Lavoratore(Persona_32, 22, N, Barista), Persona(Persona_33, 28, F), Persona(Persona_34, 40, F), Persona(Persona_35, 26, F), Lavoratore(Persona_36, 25, F, Barista), Persona(Persona_37, 66, M), Lavoratore(Persona_38, 30, F, Muratore), Persona(Persona_39, 70, M), Lavoratore(Persona_40, 22, F, Medico), Lavoratore(Persona_41, 64, M, Muratore), Persona(Persona_42, 36, M), Lavoratore(Persona_43, 26, M, Muratore), Persona(Persona_44, 26, N), Persona(Persona_45, 51, N), Lavoratore(Persona_46, 65, M, Muratore), Lavoratore(Persona_47, 60, M, Medico), Lavoratore(Persona_48, 65, M, Barista), Lavoratore(Persona_49, 70, F, Barista), Persona(Persona_50, 56, M), Lavoratore(Persona_51, 45, N, Barista), Persona(Persona_52, 19, M), Lavoratore(Persona_53, 31, M, Medico), Lavoratore(Persona_54, 21, F, Barista), Persona(Persona_55, 64, F), Persona(Persona_56, 54, M), Lavoratore(Persona_57, 63, F, Medico), Persona(Persona_58, 48, M), Persona(Persona_59, 38, N), Persona(Persona_60, 33, F), Lavoratore(Persona_61, 37, N, Medico), Persona(Persona_62, 34, F), Lavoratore(Persona_63, 66, M, Medico), Lavoratore(Persona_64, 35, M, Medico), Persona(Persona_65, 50, N), Persona(Persona_66, 56, F), Persona(Persona_67, 50, M), Persona(Persona_68, 41, N), Lavoratore(Persona_69, 26, M, Muratore), Lavoratore(Persona_70, 67, N, Muratore), Lavoratore(Persona_71, 22, M, Medico), Lavoratore(Persona_72, 31, M, Barista), Persona(Persona_73, 28, F), Persona(Persona_74, 62, F), Lavoratore(Persona_75, 44, N, Muratore), Persona(Persona_76, 43, M), Lavoratore(Persona_77, 47, F, Medico), Persona(Persona_78, 25, N), Lavoratore(Persona_79, 49, M, Medico), Persona(Persona_80, 35, N), Persona(Persona_81, 44, F), Persona(Persona_82, 33, F), Lavoratore(Persona_83, 36, M, Muratore), Lavoratore(Persona_84, 48, N, Muratore), Lavoratore(Persona_85, 35, M, Medico), Persona(Persona_86, 24, N), Persona(Persona_87, 32, F), Persona(Persona_88, 60, N), Persona(Persona_89, 53, N), Lavoratore(Persona_90, 41, M, Muratore), Persona(Persona_91, 33, F), Persona(Persona_92, 62, M), Persona(Persona_93, 45, M), Lavoratore(Persona_94, 42, F, Muratore), Persona(Persona_95, 29, N), Lavoratore(Persona_96, 46, M, Barista), Persona(Persona_97, 39, F), Lavoratore(Persona_98, 27, F, Barista), Persona(Persona_99, 29, F)]\n",
      "Maschi: 38, Femmine: 35, Non binari: 27\n",
      "Lavoratori: 44, Non lavoratori: 56\n",
      "Percentuale lavoratori: 44.00%, Percentuale non lavoratori: 56.00%\n",
      "Percentuale maschi: 38.00%, Percentuale femmine: 35.00%, Percentuale non binari: 27.00%\n",
      "Percentuale lavoratori maschi: 21.00%, Percentuale lavoratori femmine: 15.00%, Percentuale lavoratori non binari: 8.00%\n",
      "Percentuale lavoratori maschi muratori: 7.00%, Percentuale lavoratori femmine muratori: 2.00%, Percentuale lavoratori non binari muratori: 4.00%\n"
     ]
    }
   ],
   "source": [
    "\"\"\"\n",
    "generare una lista di 100 persone a caso con probabilità del 50% di essere lavoratore\n",
    "\"\"\"\n",
    "\n",
    "import random\n",
    "lavori = ['Muratore', 'Medico', 'Barista']\n",
    "persone = []\n",
    "for i in range(100):\n",
    "    nome = f\"Persona_{i}\"\n",
    "    eta = random.randint(18, 70)\n",
    "    genere = random.choice([\"M\", \"F\", \"N\"])\n",
    "    if random.random() < 0.5:\n",
    "        impiego = random.choice(lavori)\n",
    "        persone.append(Lavoratore(nome, eta, genere, impiego))\n",
    "    else:\n",
    "        persone.append(Persona(nome, eta, genere))\n",
    "\n",
    "print(persone)\n",
    "\n",
    "\"\"\"\n",
    "statistiche:\n",
    "quanti maschi, femmine e non binari ci sono?\n",
    "quanti lavoratori e non lavoratori ci sono?\n",
    "percentuale di lavoratori e non lavoratori\n",
    "percentuale di maschi e femmine, non binari\n",
    "percentuale di lavoratori maschi, femmine, non binari\n",
    "percentuale di tutti i lavoratori maschi muratori\n",
    "\"\"\"\n",
    "\n",
    "maschi = len([p for p in persone if p.genere == \"M\"])\n",
    "femmine = len([p for p in persone if p.genere == \"F\"])\n",
    "non_binari = len([p for p in persone if p.genere == \"N\"])\n",
    "\n",
    "lavoratori = len([p for p in persone if isinstance(p, Lavoratore)])\n",
    "non_lavoratori = len([p for p in persone if not isinstance(p, Lavoratore)])\n",
    "\n",
    "perc_lavoratori = lavoratori / len(persone) * 100\n",
    "perc_non_lavoratori = non_lavoratori / len(persone) * 100\n",
    "\n",
    "perc_maschi = maschi / len(persone) * 100\n",
    "perc_femmine = femmine / len(persone) * 100\n",
    "perc_non_binari = non_binari / len(persone) * 100\n",
    "\n",
    "perc_lavoratori_maschi = len([p for p in persone if isinstance(p, Lavoratore) and p.genere == \"M\"]) / len(persone) * 100\n",
    "perc_lavoratori_femmine = len([p for p in persone if isinstance(p, Lavoratore) and p.genere == \"F\"]) / len(persone) * 100\n",
    "perc_lavoratori_non_binari = len([p for p in persone if isinstance(p, Lavoratore) and p.genere == \"N\"]) / len(persone) * 100\n",
    "\n",
    "perc_lavoratori_maschi_muratori = len([p for p in persone if isinstance(p, Lavoratore) and p.genere == \"M\" and p.impiego == \"Muratore\"]) / len(persone) * 100\n",
    "perc_lavoratori_femmine_muratori = len([p for p in persone if isinstance(p, Lavoratore) and p.genere == \"F\" and p.impiego == \"Muratore\"]) / len(persone) * 100\n",
    "perc_lavoratori_non_binari_muratori = len([p for p in persone if isinstance(p, Lavoratore) and p.genere == \"N\" and p.impiego == \"Muratore\"]) / len(persone) * 100\n",
    "\n",
    "\n",
    "print(f\"Maschi: {maschi}, Femmine: {femmine}, Non binari: {non_binari}\")\n",
    "print(f\"Lavoratori: {lavoratori}, Non lavoratori: {non_lavoratori}\")\n",
    "print(f\"Percentuale lavoratori: {perc_lavoratori:.2f}%, Percentuale non lavoratori: {perc_non_lavoratori:.2f}%\")\n",
    "print(f\"Percentuale maschi: {perc_maschi:.2f}%, Percentuale femmine: {perc_femmine:.2f}%, Percentuale non binari: {perc_non_binari:.2f}%\")\n",
    "print(f\"Percentuale lavoratori maschi: {perc_lavoratori_maschi:.2f}%, Percentuale lavoratori femmine: {perc_lavoratori_femmine:.2f}%, Percentuale lavoratori non binari: {perc_lavoratori_non_binari:.2f}%\")\n",
    "print(f\"Percentuale lavoratori maschi muratori: {perc_lavoratori_maschi_muratori:.2f}%, Percentuale lavoratori femmine muratori: {perc_lavoratori_femmine_muratori:.2f}%, Percentuale lavoratori non binari muratori: {perc_lavoratori_non_binari_muratori:.2f}%\")\n",
    "\n"
   ]
  },
  {
   "cell_type": "code",
   "execution_count": 53,
   "metadata": {},
   "outputs": [
    {
     "name": "stdout",
     "output_type": "stream",
     "text": [
      "16\n",
      "[1024, 3600, 1024, 5184, 256, 4356, 4900, 324, 2116, 8836, 6724, 1600, 8464, 6084, 2304, 4, 3364, 6724, 1156, 1024, 1936, 16, 7396, 196, 10000, 3600, 7744, 5476, 484, 9604, 484, 5184, 2500, 3364, 4096, 1600, 256, 9216, 8836, 5184, 2704, 676]\n"
     ]
    },
    {
     "ename": "TypeError",
     "evalue": "'int' object is not iterable",
     "output_type": "error",
     "traceback": [
      "\u001b[1;31m---------------------------------------------------------------------------\u001b[0m",
      "\u001b[1;31mTypeError\u001b[0m                                 Traceback (most recent call last)",
      "Cell \u001b[1;32mIn[54], line 23\u001b[0m\n\u001b[0;32m     20\u001b[0m     \u001b[38;5;28;01mreturn\u001b[39;00m \u001b[38;5;28mlen\u001b[39m(\u001b[38;5;28mlist\u001b[39m(\u001b[38;5;28mmap\u001b[39m(\u001b[38;5;28;01mlambda\u001b[39;00m x: x \u001b[38;5;241m<\u001b[39m limite, \u001b[38;5;28mmap\u001b[39m(\u001b[38;5;28;01mlambda\u001b[39;00m x: x\u001b[38;5;241m%\u001b[39m\u001b[38;5;241m2\u001b[39m \u001b[38;5;241m==\u001b[39m \u001b[38;5;241m0\u001b[39m \u001b[38;5;129;01mand\u001b[39;00m x\u001b[38;5;241m*\u001b[39m\u001b[38;5;241m*\u001b[39m\u001b[38;5;241m2\u001b[39m, limite))))\n\u001b[0;32m     22\u001b[0m l3 \u001b[38;5;241m=\u001b[39m [random\u001b[38;5;241m.\u001b[39mrandint(\u001b[38;5;241m0\u001b[39m, \u001b[38;5;241m100\u001b[39m) \u001b[38;5;28;01mfor\u001b[39;00m _ \u001b[38;5;129;01min\u001b[39;00m \u001b[38;5;28mrange\u001b[39m(\u001b[38;5;241m100\u001b[39m)]\n\u001b[1;32m---> 23\u001b[0m \u001b[38;5;28mprint\u001b[39m(\u001b[43mv2\u001b[49m\u001b[43m(\u001b[49m\u001b[43ml3\u001b[49m\u001b[43m,\u001b[49m\u001b[43m \u001b[49m\u001b[38;5;241;43m1000\u001b[39;49m\u001b[43m)\u001b[49m)\n",
      "Cell \u001b[1;32mIn[54], line 20\u001b[0m, in \u001b[0;36mv2\u001b[1;34m(l, limite)\u001b[0m\n\u001b[0;32m     19\u001b[0m \u001b[38;5;28;01mdef\u001b[39;00m \u001b[38;5;21mv2\u001b[39m(l, limite):\n\u001b[1;32m---> 20\u001b[0m     \u001b[38;5;28;01mreturn\u001b[39;00m \u001b[38;5;28mlen\u001b[39m(\u001b[38;5;28mlist\u001b[39m(\u001b[38;5;28mmap\u001b[39m(\u001b[38;5;28;01mlambda\u001b[39;00m x: x \u001b[38;5;241m<\u001b[39m limite, \u001b[38;5;28;43mmap\u001b[39;49m\u001b[43m(\u001b[49m\u001b[38;5;28;43;01mlambda\u001b[39;49;00m\u001b[43m \u001b[49m\u001b[43mx\u001b[49m\u001b[43m:\u001b[49m\u001b[43m \u001b[49m\u001b[43mx\u001b[49m\u001b[38;5;241;43m%\u001b[39;49m\u001b[38;5;241;43m2\u001b[39;49m\u001b[43m \u001b[49m\u001b[38;5;241;43m==\u001b[39;49m\u001b[43m \u001b[49m\u001b[38;5;241;43m0\u001b[39;49m\u001b[43m \u001b[49m\u001b[38;5;129;43;01mand\u001b[39;49;00m\u001b[43m \u001b[49m\u001b[43mx\u001b[49m\u001b[38;5;241;43m*\u001b[39;49m\u001b[38;5;241;43m*\u001b[39;49m\u001b[38;5;241;43m2\u001b[39;49m\u001b[43m,\u001b[49m\u001b[43m \u001b[49m\u001b[43mlimite\u001b[49m\u001b[43m)\u001b[49m)))\n",
      "\u001b[1;31mTypeError\u001b[0m: 'int' object is not iterable"
     ]
    }
   ],
   "source": [
    "\"\"\"\n",
    "scrivere una funzione che dato un elenco di numeri in interi casuali tra 0 e 100 restituisce quanti sono i numeri pari il cui quadrato è minore di un limite dato\n",
    "\"\"\"\n",
    "\n",
    "def numeri_pari_quadrato_minore_di(l, limite):\n",
    "    c=0\n",
    "    for n in l:\n",
    "        if n % 2 == 0 and n**2 < limite:\n",
    "            c += 1\n",
    "    return c\n",
    "\n",
    "l = [random.randint(0, 100) for _ in range(100)]\n",
    "print(numeri_pari_quadrato_minore_di(l, 1000))\n",
    "\n",
    "l2 = [random.randint(0, 100) for _ in range(100)]\n",
    "r = list(map(lambda x: x**2, filter(lambda x: x % 2 == 0, l2)))\n",
    "print(r)\n",
    "\n",
    "def v2(l, limite):\n",
    "    return sum(list(map(lambda x: x%2 == 0 and x**2, limite), l))\n",
    "\n",
    "l3 = [random.randint(0, 100) for _ in range(100)]\n",
    "print(v2(l3, 1000))"
   ]
  }
 ],
 "metadata": {
  "kernelspec": {
   "display_name": "Python 3",
   "language": "python",
   "name": "python3"
  },
  "language_info": {
   "codemirror_mode": {
    "name": "ipython",
    "version": 3
   },
   "file_extension": ".py",
   "mimetype": "text/x-python",
   "name": "python",
   "nbconvert_exporter": "python",
   "pygments_lexer": "ipython3",
   "version": "3.11.9"
  }
 },
 "nbformat": 4,
 "nbformat_minor": 2
}
