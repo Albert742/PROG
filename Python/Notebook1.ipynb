{
 "cells": [
  {
   "cell_type": "markdown",
   "metadata": {},
   "source": [
    "# Il mio notebook"
   ]
  },
  {
   "cell_type": "code",
   "execution_count": 5,
   "metadata": {},
   "outputs": [],
   "source": [
    "%config IPCompleter.greedy=True"
   ]
  },
  {
   "cell_type": "markdown",
   "metadata": {},
   "source": [
    "# Introduzione a Jupyter notebook"
   ]
  },
  {
   "cell_type": "markdown",
   "metadata": {},
   "source": [
    "### Markdown\n",
    "\n",
    "Questa è una **markdown** qui si può scrivere testo e appunti riguardo il codice o altro\n",
    "\n",
    "Ecco alcune istruzioni sul mark-up di jupyter\n",
    "\n",
    "# Buongiorno!!\n",
    "## Buongiorno!!\n",
    "### Buongiorno!!\n",
    "#### Buongiorno!!\n",
    "##### Buongiorno!!\n",
    "\n",
    "Oggi è il 20 di febbraio e la classe è un po' agitata.\n",
    "Io mi chiamo Giovanni.\n",
    "\n",
    "Questo è un nuovo paragrafo.\n",
    "\n",
    "Per scrivere in corsivo (italico, enhanced, em) *questo è corsivo*\n",
    "\n",
    "Per scrivere in grassetto **questo è grassetto**\n",
    "\n",
    "Cosa succede se metto 3 asterischi? ***esempio***\n",
    "\n",
    "Elenchi:\n",
    "\n",
    "- primo elemento\n",
    "- secondo elemento\n",
    "- terzo elemento"
   ]
  },
  {
   "cell_type": "code",
   "execution_count": 6,
   "metadata": {},
   "outputs": [
    {
     "data": {
      "text/plain": [
       "'\\nQuesta è una cell in una cell si può scrivere ed eseguire codice\\n'"
      ]
     },
     "execution_count": 6,
     "metadata": {},
     "output_type": "execute_result"
    }
   ],
   "source": [
    "\"\"\"\n",
    "Questa è una cell in una cell si può scrivere ed eseguire codice\n",
    "\"\"\""
   ]
  },
  {
   "cell_type": "markdown",
   "metadata": {},
   "source": []
  },
  {
   "cell_type": "code",
   "execution_count": 7,
   "metadata": {},
   "outputs": [
    {
     "data": {
      "text/plain": [
       "'\\ncommento \\na \\npiù\\nrighe\\n'"
      ]
     },
     "execution_count": 7,
     "metadata": {},
     "output_type": "execute_result"
    }
   ],
   "source": [
    "# commento a una riga\n",
    "\"\"\"\n",
    "commento \n",
    "a \n",
    "più\n",
    "righe\n",
    "\"\"\"\n"
   ]
  },
  {
   "cell_type": "markdown",
   "metadata": {},
   "source": []
  },
  {
   "cell_type": "code",
   "execution_count": 8,
   "metadata": {},
   "outputs": [
    {
     "name": "stdout",
     "output_type": "stream",
     "text": [
      "1\n",
      "Pippo 1\n"
     ]
    },
    {
     "data": {
      "text/plain": [
       "'\\nPython usa il Duck typing \\nquindi deduce il tipo di variabile dalla stessa variabile assegnata\\n'"
      ]
     },
     "execution_count": 8,
     "metadata": {},
     "output_type": "execute_result"
    }
   ],
   "source": [
    "\"\"\"\n",
    "una variabile in un programma \n",
    "è una cella di memoria\n",
    "che contiene una informazione \n",
    "che viene riferita con un nome\n",
    "\n",
    "nome -> loc mem -> val\n",
    "\"\"\"\n",
    "\n",
    "a=1\n",
    "print(a)\n",
    "b='Pippo'\n",
    "print(b,a)\n",
    "\n",
    "\"\"\"\n",
    "Python usa il Duck typing \n",
    "quindi deduce il tipo di variabile dalla stessa variabile assegnata\n",
    "\"\"\""
   ]
  },
  {
   "cell_type": "markdown",
   "metadata": {},
   "source": [
    "### Tipi predefiniti di python"
   ]
  },
  {
   "cell_type": "code",
   "execution_count": 9,
   "metadata": {},
   "outputs": [
    {
     "name": "stdout",
     "output_type": "stream",
     "text": [
      "<class 'int'>\n",
      "<class 'tuple'>\n",
      "<class 'bool'>\n",
      "<class 'bool'>\n",
      "<class 'str'>\n",
      "<class 'str'>\n",
      "<class 'str'>\n",
      "0.0\n",
      "0\n",
      "2\n",
      "10000000000000000000000000000000000000000000000000000000000000000000000000000000000000000000000000000000000000000000000000000000000000000000000000000000000000000000000000000000000000000000000000000000000000000000000000000000000000000000000000000000000000000000000000000000000000000000000000000000000000000000000000000000000000000000000000000000000000000000000000000000000000000000000000000000000000000000000000000000000000000000000000000000000000000000000000000000000000000000000000000000000000000000000000000000000000000000000000000000000000000000000000000000000000000000000000000000000000000000000000000000000000000000000000000000000000000000000000000000000000000000000000000000000000000000000000000000000000000000000000000000000000000000000000000000000000000000000000000000000000000000000000000000000000000000000000000000000000000000000000000000000000000000000000000000000000000000000000000000000000000000000000000000000000000000000000000000000000000000000000000000000000000000000000000000000000000\n",
      "6.25\n",
      "2.0\n",
      "3.0\n",
      "False\n",
      "True\n",
      "False\n",
      "False\n",
      "True\n",
      "True\n",
      "False\n",
      "True\n",
      "False\n",
      "True\n",
      "False\n",
      "True\n",
      "4.140000000000001 <class 'float'>\n",
      "2 <class 'int'>\n",
      "1 <class 'int'>\n",
      "4.140000000000001 <class 'float'>\n",
      "1 <class 'int'>\n",
      "0 <class 'int'>\n",
      "10.0\n",
      "3\n",
      "True\n",
      "False\n",
      "5\n",
      "pippoBaudo\n",
      "pippo Baudo\n",
      "pippo Baudo\n",
      "pippopippopippo\n",
      "pippo4\n",
      "<class 'str'>\n",
      "669\n",
      "abcdefghi ha lunghezza 9\n",
      "l'elemento di posto 0 è a\n",
      "l'elemento di posto 0 è i\n",
      "l'elemento di posto 0 è a\n",
      "abcd\n",
      "abcdefghi\n",
      "Ciao\n",
      "Help on built-in function capitalize:\n",
      "\n",
      "capitalize() method of builtins.str instance\n",
      "    Return a capitalized version of the string.\n",
      "    \n",
      "    More specifically, make the first character have upper case and the rest lower\n",
      "    case.\n",
      "\n",
      "Ciao\n",
      "*abcba*\n",
      "3\n",
      "3\n",
      "0\n",
      "-1\n",
      "oggi è il 19 febbraio 2024\n",
      "['siete', 'stanchi', 'e', 'rumorosi']\n",
      "['a*b*c*d*e*f']\n"
     ]
    }
   ],
   "source": [
    "# Tipi atomici\n",
    "\n",
    "# intero/int\n",
    "a=182 # a è un intero\n",
    "\n",
    "# float\n",
    "b=12,87 # b è un float\n",
    "\n",
    "# boolean\n",
    "c=True\n",
    "d=False\n",
    "# CASE SENSITIVE\n",
    "\n",
    "# string (non è atomico solo di base)\n",
    "f=\"Ciao Mondo\"\n",
    "g=\"Ciao\"\n",
    "h=\"\"\n",
    "\n",
    "print(type(a))\n",
    "print(type(b))\n",
    "print(type(c))\n",
    "print(type(d))\n",
    "print(type(f))\n",
    "print(type(g))\n",
    "print(type(h))\n",
    "\n",
    "a=0\n",
    "b=1\n",
    "print(a/b) # divisione / da risultato float\n",
    "print(a//b) # divisione // da risultato intero\n",
    "print(12%5) # resto della divisione intero % e operatore modulo \n",
    "\n",
    "c=10**1000 # potenza\n",
    "print(c)\n",
    "\n",
    "# float\n",
    "f=2.5\n",
    "print(f**2)\n",
    "print(4**(1/2))\n",
    "print(27**(1/3))\n",
    "\n",
    "# booleani\n",
    "A=True\n",
    "B=False\n",
    "C=True\n",
    "D=False\n",
    "\n",
    "print(A and B)\n",
    "print(A and C)\n",
    "print(D and B)\n",
    "print(B and C)\n",
    "\n",
    "# disgiunzione\n",
    "print(A or B)\n",
    "print(A or C)\n",
    "print(D or B)\n",
    "print(B or C)\n",
    "\n",
    "# negazioni\n",
    "print(not A)\n",
    "print(not B)\n",
    "print(not C)\n",
    "print(not D)\n",
    "\n",
    "# Relazione tra tipi\n",
    "# bool < int < float --- La stringa è a parte\n",
    "\n",
    "a=1\n",
    "b=True\n",
    "c=False\n",
    "d=3.14\n",
    "e=\"Pippo\"\n",
    "\n",
    "# Promozioni automatiche\n",
    "print(a+d, type(a+d))\n",
    "print(a+b, type(a+b))\n",
    "print(a+c, type(a+c))\n",
    "print(d+b, type(d+b))\n",
    "print(b+c, type(b+c))\n",
    "print(b*c, type(b*c))\n",
    "\n",
    "# Promozioni forzate - casting\n",
    "a=10\n",
    "print(float(a))\n",
    "b=3.14\n",
    "print(int(b))\n",
    "print(bool(a))\n",
    "print(bool(0))\n",
    "\n",
    "# lavoriamo con le stringhe\n",
    "s=\"pippo\"\n",
    "print(len(s))\n",
    "t=\"Baudo\"\n",
    "print(s+t) # + tra stringhe concatena\n",
    "print(s+\" \"+t)\n",
    "print(s,t)\n",
    "\n",
    "print(s*3)\n",
    "#print(s+4) # stringa + numero -> errore\n",
    "print(s+str(4))\n",
    "print(type(s+str(4)))\n",
    "\n",
    "print(3 + int(\"666\") )\n",
    "#print(int(\"pippo\"))\n",
    "\n",
    "# lavoriamo con le stringhe\n",
    "\n",
    "# concatenare con il +\n",
    "# ripetere con il *\n",
    "# \"slicing\" prendere pezzi-fette di stringa\n",
    "\n",
    "# in Python come in C si comincia a contare da zero\n",
    "\n",
    "s=\"abcdefghi\"\n",
    "print(s,\"ha lunghezza\",len(s))\n",
    "print(\"l'elemento di posto 0 è\",s[0])\n",
    "print(\"l'elemento di posto 0 è\",s[8])\n",
    "# print(\"l'elemento di posto 0 è\",s[9]) # errore\n",
    "print(\"l'elemento di posto 0 è\",s[0])\n",
    "\n",
    "\"\"\"\n",
    "\"a  b  c  d\"\n",
    " 0  1  2  3\n",
    "-4 -3 -2 -1\n",
    "\"\"\"\n",
    "\n",
    "print(s[0:4])\n",
    "print \n",
    "print(s[:])\n",
    "\n",
    "\"\"\"\n",
    "lo slicing funziona su tutti\n",
    "gli oggetti che sono iterabili e indicizzabili\n",
    "\"\"\"\n",
    "# s è una stringa\n",
    "# s è un OGGETTO di classe (tipo) str\n",
    "\n",
    "s=\"ciao\"\n",
    "# per vedere quali funzioni (metodi)\n",
    "# sono predefiniti su una stringa faccio\n",
    "dir(s)\n",
    "\n",
    "print(s.capitalize())\n",
    "help(s.capitalize)\n",
    "\n",
    "t=\"ciaO\"\n",
    "print(t.capitalize())\n",
    "\n",
    "m=\"abcba\"\n",
    "print(m.center(7,\"*\"))\n",
    "\n",
    "print(\"viva s.Agata\".find(\"a\"))\n",
    "print(\"viva s.Agata\".count(\"a\"))\n",
    "print(\"viva s.Agata\".count(\"z\"))\n",
    "print(\"viva s.Agata\".find(\"z\"))\n",
    "\n",
    "anno=2024\n",
    "mese=\"febbraio\"\n",
    "giorno=19\n",
    "print(\"oggi è il {} {} {}\".format(giorno,mese,anno))\n",
    "\n",
    "s=\"siete stanchi e rumorosi\"\n",
    "print(s.split(sep=\" \"))\n",
    "\n",
    "s=\"a*b*c*d*e*f\"\n",
    "print(s.split(\" \"))\n"
   ]
  },
  {
   "cell_type": "markdown",
   "metadata": {},
   "source": [
    "### Condizionali e Input"
   ]
  },
  {
   "cell_type": "code",
   "execution_count": 10,
   "metadata": {},
   "outputs": [
    {
     "name": "stdout",
     "output_type": "stream",
     "text": [
      "la stringa inserita ha 2 caratteri\n",
      "gg\n",
      "il doppio del tuo numero è 7777\n",
      "il doppio del tuo numero è 154\n",
      "77 è divisibile per 77\n",
      "ho eseguito il blocco per if vero\n",
      " ho finito\n",
      "Lunga\n"
     ]
    }
   ],
   "source": [
    "\n",
    "# condizionale \"if\"\n",
    "\n",
    "a=input(\"scrivi un stringa \")\n",
    "print(\"la stringa inserita ha\",len(a),\"caratteri\")\n",
    "print(a)\n",
    "\n",
    "#non funziona perché x è una str\n",
    "x=input(\"dammi un numero > \")\n",
    "print(\"il doppio del tuo numero è\",2*x)\n",
    "\n",
    "# meglio come segue\n",
    "x=int(input(\"dammi un numero > \"))\n",
    "print(\"il doppio del tuo numero è\",2*x)\n",
    "\n",
    "# verifichiamo se un numero è multiplo\n",
    "# di un altro\n",
    "x=int(input(\"inserisci un intero \"))\n",
    "y=int(input(\"inserisci un altro intero \"))\n",
    "# x è multiplo di y?\n",
    "if x%y == 0:\n",
    "    print(x,\"è divisibile per\",y)\n",
    "    print(\"ho eseguito il blocco per if vero\")\n",
    "else:\n",
    "    print(x,\"non è divisibile per\",y)\n",
    "    print(\"ho eseguito il blocco per if falso\")\n",
    "    \n",
    "print(\" ho finito\")\n",
    "\n",
    "\"\"\"\n",
    "esempio per studiare la funzione input e il controllo condizionale if\n",
    "\n",
    "\"\"\"\n",
    "\n",
    "# gestione dell'input\n",
    "s=input(\"Scrivi una parola \")\n",
    "print(s)\n",
    "print(type(s))\n",
    "\n",
    "# classifichiamo l'input in base alla lunghezza\n",
    "# parole con meno di 5 caratteri sono corte\n",
    "# parole con 5 caratteri o più sono lunghe\n",
    "\n",
    "# controllo\n",
    "if len(s)>=5 :\n",
    "    print(\"hai fornito una parola lunga\")\n",
    "else:\n",
    "    print(\"hai fornito una parola corta\")\n",
    "\n",
    "\"\"\"\n",
    "dire se la parola è molto corta <= 3 caratteri\n",
    "dire se la parola è corta tra 4 e 6 caratteri\n",
    "dire s ela parola è lunga : da 7 caratteri in poi\n",
    "\"\"\"\n",
    "# gestione dell'input\n",
    "s=input(\"Scrivi una parola \")\n",
    "print(s)\n",
    "print(type(s))\n",
    "\n",
    "\"\"\"\n",
    "# codice prolisso\n",
    "\n",
    "if len(s)<=3:\n",
    "    print(\"molto corta\")\n",
    "else:\n",
    "    if len(s)<=6:\n",
    "        print(\"corta\")\n",
    "    else:\n",
    "        print(\"lunga\")\n",
    "\"\"\"\n",
    "\n",
    "if len(s)<=3:\n",
    "    print(\"Molto corta\")\n",
    "elif len(s)<=6:\n",
    "    print(\"Corta\")\n",
    "else:\n",
    "    print(\"Lunga\")\n"
   ]
  },
  {
   "cell_type": "markdown",
   "metadata": {},
   "source": [
    "### Cicli while"
   ]
  },
  {
   "cell_type": "code",
   "execution_count": 11,
   "metadata": {},
   "outputs": [
    {
     "name": "stdout",
     "output_type": "stream",
     "text": [
      "1\n",
      "2\n",
      "Ho finito\n",
      "Stringa non ok\n",
      "Ho dovuto dividere 8 volte\n"
     ]
    }
   ],
   "source": [
    "# inserire numeri finch{} non viene inserito un numero pari\n",
    "\n",
    "numero=int(input(\"dammi un numero \")) \n",
    "\n",
    "while numero%2==1:\n",
    "    print(\"numero dispari, riprova\")\n",
    "    # aggiornamento della condizione\n",
    "    numero=int(input(\"dammi di nuovo un numero \")) \n",
    "    \n",
    "print(\"hurrah, hai dati un numero pari!\")\n",
    "\n",
    "\"\"\"\n",
    "esercizio scorrere una stringa e restituire: \n",
    "-True se trovo una cifra decimale \n",
    "-False se non trovo una cifra\n",
    "\"\"\"\n",
    "\n",
    "s=input(\"Digita una stringa\")\n",
    "\"\"\"\n",
    "indice=0\n",
    "while (not s[indice].isnumeric()):\n",
    "    indice+=1\n",
    "print(\"Ho finito\")\n",
    "\"\"\"\n",
    "#Input\n",
    "s=input(\"Digita una stringa\")\n",
    "\n",
    "#Inizializzazione condizioni while\n",
    "indice=0\n",
    "Tnum=False\n",
    "\n",
    "#Ciclo\n",
    "while (indice<len(s)):\n",
    "    if s[indice].isnumeric():\n",
    "        Tnum=True\n",
    "        break\n",
    "    indice+=1\n",
    "    print(indice)\n",
    "print(\"Ho finito\")\n",
    "\n",
    "if  Tnum:\n",
    "    print(\"Stringa ok\")\n",
    "else:\n",
    "    print(\"Stringa non ok\")\n",
    "\n",
    "num=143\n",
    "contatore=0\n",
    "while num>1:\n",
    "    contatore+=1\n",
    "    num=num/2\n",
    "print(\"Ho dovuto dividere {} volte\".format(contatore))\n"
   ]
  },
  {
   "cell_type": "markdown",
   "metadata": {},
   "source": [
    "### Cicli for"
   ]
  },
  {
   "cell_type": "code",
   "execution_count": 12,
   "metadata": {},
   "outputs": [
    {
     "name": "stdout",
     "output_type": "stream",
     "text": [
      "0\n",
      "1\n",
      "2\n",
      "3\n",
      "4\n",
      "5\n",
      "6\n",
      "7\n",
      "8\n",
      "9\n",
      "10\n",
      "----\n",
      "-21\n",
      "-20\n",
      "-19\n",
      "-18\n",
      "-17\n",
      "-16\n",
      "-15\n",
      "-14\n",
      "-13\n",
      "-12\n",
      "-11\n",
      "-10\n",
      "-9\n",
      "-8\n",
      "-7\n",
      "-6\n",
      "-5\n",
      "-4\n",
      "-3\n",
      "-2\n",
      "-1\n",
      "0\n",
      "1\n",
      "2\n",
      "3\n",
      "4\n",
      "5\n",
      "6\n",
      "7\n",
      "8\n",
      "9\n",
      "10\n",
      "11\n",
      "----\n",
      "2\n",
      "4\n",
      "6\n",
      "8\n",
      "10\n",
      "12\n",
      "14\n",
      "16\n",
      "18\n",
      "20\n",
      "----\n",
      "C\n",
      "r\n",
      "i\n",
      "s\n",
      "t\n",
      "i\n",
      "n\n",
      "a\n",
      " \n",
      "D\n",
      "'\n",
      "a\n",
      "v\n",
      "e\n",
      "n\n",
      "a\n",
      "True\n",
      "False\n"
     ]
    }
   ],
   "source": [
    "\n",
    "# stampare i numeri da 0 a 10\n",
    "\n",
    "for i in range (11): # va da 0 a 10 (cioè 11-1)\n",
    "    print(i)\n",
    "print(\"----\")\n",
    "\n",
    "for i in range(-21,12):\n",
    "    print(i)\n",
    "\n",
    "print(\"----\")\n",
    "\n",
    "for i in range(2,21,2):\n",
    "    print(i)\n",
    "    \n",
    "print(\"----\")\n",
    "\n",
    "s=\"Cristina D'avena\"\n",
    "for car in s:\n",
    "    print(car)\n",
    "\n",
    "#* il comando \"in\" è molto importante controlla se l'elemento è in una collezione\n",
    "print(\"a\" in \"mamma\")\n",
    "print(\"z\" in \"pippo\")\n",
    "\n",
    "for cifra in \"0123456789\":\n",
    "    if cifra in \"pippo \":\n",
    "        print(\"ho trovato un numero\")\n",
    "        break\n",
    "\n",
    "\n",
    "s=\"eccezionale veramente\"\n",
    "# s è una sequenza di caratteri, una stinga! e il for itera sui caratteri\n",
    "# s è un \"iterable\"\n",
    "\n",
    "for carattere in s:\n",
    "    print(carattere)\n",
    "    \n",
    "for pippo in s:\n",
    "    print(pippo)\n"
   ]
  },
  {
   "cell_type": "markdown",
   "metadata": {},
   "source": [
    "### Funzini di Python"
   ]
  },
  {
   "cell_type": "code",
   "execution_count": 13,
   "metadata": {
    "notebookRunGroups": {
     "groupValue": "1"
    }
   },
   "outputs": [],
   "source": [
    "#* funzione produttiva\n",
    "\n",
    "def doppio(x):\n",
    "    return x*2"
   ]
  },
  {
   "cell_type": "code",
   "execution_count": 14,
   "metadata": {
    "notebookRunGroups": {
     "groupValue": "1"
    }
   },
   "outputs": [
    {
     "name": "stdout",
     "output_type": "stream",
     "text": [
      "16\n",
      "mammamamma\n",
      "2\n"
     ]
    }
   ],
   "source": [
    "print(doppio(8))\n",
    "print(doppio(\"mamma\"))\n",
    "print(doppio(True))"
   ]
  },
  {
   "cell_type": "code",
   "execution_count": 15,
   "metadata": {},
   "outputs": [
    {
     "name": "stdout",
     "output_type": "stream",
     "text": [
      "ciao Pippo\n",
      "None\n"
     ]
    }
   ],
   "source": [
    "#* funzione non produttiva\n",
    "def saluto(s):\n",
    "    print(\"ciao \"+s)\n",
    "    \n",
    "print(saluto(\"Pippo\"))"
   ]
  },
  {
   "cell_type": "code",
   "execution_count": 16,
   "metadata": {},
   "outputs": [
    {
     "name": "stdout",
     "output_type": "stream",
     "text": [
      "<class 'function'>\n"
     ]
    }
   ],
   "source": [
    "print(type(saluto))"
   ]
  },
  {
   "cell_type": "code",
   "execution_count": 17,
   "metadata": {},
   "outputs": [
    {
     "name": "stdout",
     "output_type": "stream",
     "text": [
      "Pip\n",
      "P\n"
     ]
    }
   ],
   "source": [
    "def iniziali(nome,k=1):\n",
    "    return nome[0:k]\n",
    "\n",
    "print(iniziali(\"Pippo\",3))\n",
    "print(iniziali(\"Pippo\"))"
   ]
  },
  {
   "cell_type": "code",
   "execution_count": 18,
   "metadata": {},
   "outputs": [
    {
     "name": "stdout",
     "output_type": "stream",
     "text": [
      "1.6666666666666667\n",
      "0.0\n",
      "None\n"
     ]
    }
   ],
   "source": [
    "def divisione(x,y):\n",
    "    try:\n",
    "     return x/y\n",
    "    except:\n",
    "        return None\n",
    "print(divisione(5,3))\n",
    "print(divisione(0,10000))\n",
    "print(divisione(1000,0))\n"
   ]
  },
  {
   "cell_type": "markdown",
   "metadata": {},
   "source": [
    "### Liste"
   ]
  },
  {
   "cell_type": "code",
   "execution_count": 21,
   "metadata": {},
   "outputs": [
    {
     "name": "stdout",
     "output_type": "stream",
     "text": [
      "[1, 2, 3, 4, 5]\n",
      "quarto\n",
      "['primo', 'secondo', 'terzo']\n",
      "['quarto']\n",
      "['quarto', 'quinto']\n",
      "['primo', 'secondo', 'terzo', 'quarto', 'quinto', 'sesto']\n",
      "5\n",
      "3\n",
      "[1, 2, 3]\n",
      "[]\n"
     ]
    }
   ],
   "source": [
    "L=[1,2,3,4,5]\n",
    "print(L)\n",
    "\n",
    "\n",
    "# slicing\n",
    "L=[\"primo\",\"secondo\",\"terzo\",\"quarto\",\"quinto\",\"sesto\"]\n",
    "print(L[3])\n",
    "print(L[0:3])\n",
    "print(L[3:-2])\n",
    "print(L[3:-1])\n",
    "print(L[:])\n",
    "\n",
    "\"\"\"\n",
    "list -> elenco\n",
    "array -> schiera\n",
    "\n",
    "la lista può contenere oggetti di natura diversa\n",
    "l'array può contenere solo elementi della stessa natura o tipo\n",
    "\"\"\"\n",
    "\n",
    "L=[1,3,45,\"ciao\",True]\n",
    "print(len(L))\n",
    "\n",
    "L2=[1,[34,25],4]\n",
    "print(len(L2))\n",
    "\n",
    "L=[] # lista vuota\n",
    "L2=[1,2]\n",
    "\n",
    " \n",
    "\"\"\"\n",
    " 'append',\n",
    " 'clear',\n",
    " 'copy',\n",
    " 'count',\n",
    " 'extend',\n",
    " 'index',\n",
    " 'insert',\n",
    " 'pop',\n",
    " 'remove',\n",
    " 'reverse',\n",
    " 'sort'\n",
    " \"\"\"\n",
    "L=[1,2,3]\n",
    "print(L)\n",
    "L.clear() # svuota la lista\n",
    "print(L)\n"
   ]
  },
  {
   "cell_type": "markdown",
   "metadata": {},
   "source": []
  }
 ],
 "metadata": {
  "kernelspec": {
   "display_name": "Python 3 (ipykernel)",
   "language": "python",
   "name": "python3"
  },
  "language_info": {
   "codemirror_mode": {
    "name": "ipython",
    "version": 3
   },
   "file_extension": ".py",
   "mimetype": "text/x-python",
   "name": "python",
   "nbconvert_exporter": "python",
   "pygments_lexer": "ipython3",
   "version": "3.11.7"
  }
 },
 "nbformat": 4,
 "nbformat_minor": 2
}
