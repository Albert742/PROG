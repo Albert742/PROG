{
 "cells": [
  {
   "cell_type": "markdown",
   "metadata": {},
   "source": [
    "# Ripasso Py"
   ]
  },
  {
   "cell_type": "code",
   "execution_count": 1,
   "metadata": {},
   "outputs": [
    {
     "data": {
      "text/plain": [
       "['In',\n",
       " 'Out',\n",
       " '_',\n",
       " '__',\n",
       " '___',\n",
       " '__builtin__',\n",
       " '__builtins__',\n",
       " '__doc__',\n",
       " '__loader__',\n",
       " '__name__',\n",
       " '__package__',\n",
       " '__spec__',\n",
       " '__vsc_ipynb_file__',\n",
       " '_dh',\n",
       " '_i',\n",
       " '_i1',\n",
       " '_ih',\n",
       " '_ii',\n",
       " '_iii',\n",
       " '_oh',\n",
       " 'exit',\n",
       " 'get_ipython',\n",
       " 'open',\n",
       " 'quit']"
      ]
     },
     "execution_count": 1,
     "metadata": {},
     "output_type": "execute_result"
    }
   ],
   "source": [
    "dir()"
   ]
  },
  {
   "cell_type": "code",
   "execution_count": 2,
   "metadata": {},
   "outputs": [
    {
     "name": "stdout",
     "output_type": "stream",
     "text": [
      "Hello, World!\n"
     ]
    }
   ],
   "source": [
    "print(\"Hello, World!\")"
   ]
  },
  {
   "cell_type": "markdown",
   "metadata": {},
   "source": [
    "_testo_\n",
    "\n",
    "__testo__\n",
    "\n",
    "# titolo\n",
    "\n",
    "## titolo\n",
    "\n",
    "### titolo"
   ]
  },
  {
   "cell_type": "code",
   "execution_count": 3,
   "metadata": {},
   "outputs": [
    {
     "name": "stdout",
     "output_type": "stream",
     "text": [
      "__main__\n",
      "<class 'str'>\n"
     ]
    }
   ],
   "source": [
    "print(__name__)\n",
    "\n",
    "print(type(__name__))"
   ]
  },
  {
   "cell_type": "code",
   "execution_count": 4,
   "metadata": {},
   "outputs": [
    {
     "name": "stdout",
     "output_type": "stream",
     "text": [
      "['In', 'Out', '_', '__', '___', '__builtin__', '__builtins__', '__doc__', '__loader__', '__name__', '__package__', '__spec__', '__vsc_ipynb_file__', '_dh', '_i', '_i1', '_ih', '_ii', '_iii', '_oh', 'exit', 'get_ipython', 'open', 'quit']\n",
      "<class 'list'>\n"
     ]
    }
   ],
   "source": [
    "print(_)\n",
    "\n",
    "print(type(_))\n"
   ]
  },
  {
   "cell_type": "code",
   "execution_count": 5,
   "metadata": {},
   "outputs": [
    {
     "data": {
      "text/plain": [
       "4"
      ]
     },
     "execution_count": 5,
     "metadata": {},
     "output_type": "execute_result"
    }
   ],
   "source": [
    "2+2\n"
   ]
  },
  {
   "cell_type": "code",
   "execution_count": 6,
   "metadata": {},
   "outputs": [
    {
     "name": "stdout",
     "output_type": "stream",
     "text": [
      "4\n",
      "<class 'int'>\n",
      "['In', 'Out', '_', '__', '___', '__builtin__', '__builtins__', '__doc__', '__loader__', '__name__', '__package__', '__spec__', '__vsc_ipynb_file__', '_dh', '_i', '_i1', '_ih', '_ii', '_iii', '_oh', 'exit', 'get_ipython', 'open', 'quit']\n",
      "<class 'list'>\n"
     ]
    }
   ],
   "source": [
    "print(_)\n",
    "\n",
    "print(type(_))\n",
    "\n",
    "print(__)\n",
    "\n",
    "print(type(__))\n"
   ]
  },
  {
   "cell_type": "code",
   "execution_count": 7,
   "metadata": {},
   "outputs": [
    {
     "data": {
      "text/plain": [
       "2"
      ]
     },
     "execution_count": 7,
     "metadata": {},
     "output_type": "execute_result"
    }
   ],
   "source": [
    "3-1"
   ]
  },
  {
   "cell_type": "code",
   "execution_count": 8,
   "metadata": {},
   "outputs": [
    {
     "name": "stdout",
     "output_type": "stream",
     "text": [
      "2\n",
      "<class 'int'>\n",
      "4\n",
      "<class 'int'>\n",
      "['In', 'Out', '_', '__', '___', '__builtin__', '__builtins__', '__doc__', '__loader__', '__name__', '__package__', '__spec__', '__vsc_ipynb_file__', '_dh', '_i', '_i1', '_ih', '_ii', '_iii', '_oh', 'exit', 'get_ipython', 'open', 'quit']\n",
      "<class 'list'>\n"
     ]
    }
   ],
   "source": [
    "print(_)\n",
    "\n",
    "print(type(_))\n",
    "\n",
    "print(__)\n",
    "\n",
    "print(type(__))\n",
    "\n",
    "print(___)\n",
    "\n",
    "print(type(___))"
   ]
  },
  {
   "cell_type": "markdown",
   "metadata": {},
   "source": [
    "# Strutture di controllo"
   ]
  },
  {
   "cell_type": "code",
   "execution_count": 9,
   "metadata": {},
   "outputs": [
    {
     "name": "stdout",
     "output_type": "stream",
     "text": [
      "Il numero è positivo\n"
     ]
    }
   ],
   "source": [
    "#CONDIZIONALE\n",
    "#IF\n",
    "a = input(\"Inserisci un numero: \")\n",
    "a = int(a)\n",
    "\n",
    "if a > 0:\n",
    "    print(\"Il numero è positivo\")"
   ]
  },
  {
   "cell_type": "code",
   "execution_count": 10,
   "metadata": {},
   "outputs": [
    {
     "name": "stdout",
     "output_type": "stream",
     "text": [
      "Il numero è positivo\n"
     ]
    }
   ],
   "source": [
    "#IF ELSE\n",
    "a = input(\"Inserisci un numero: \")\n",
    "a = int(a)\n",
    "\n",
    "if a > 0:\n",
    "    print(\"Il numero è positivo\")\n",
    "elif a < 0:\n",
    "    print(\"\")"
   ]
  },
  {
   "cell_type": "code",
   "execution_count": 11,
   "metadata": {},
   "outputs": [
    {
     "name": "stdout",
     "output_type": "stream",
     "text": [
      "La somma è: 5\n"
     ]
    }
   ],
   "source": [
    "def somma_numeri():\n",
    "    somma = 0\n",
    "    while True:\n",
    "        num = int(input(\"Inserisci un numero (0 per fermare): \"))\n",
    "        if num == 0:\n",
    "            break\n",
    "        somma += num\n",
    "    print(\"La somma è:\", somma)\n",
    "\n",
    "somma_numeri()"
   ]
  },
  {
   "cell_type": "code",
   "execution_count": 12,
   "metadata": {},
   "outputs": [
    {
     "name": "stdout",
     "output_type": "stream",
     "text": [
      "La somma è: 12\n"
     ]
    }
   ],
   "source": [
    "def somma_numeri():\n",
    "    somma = 0\n",
    "    while True:\n",
    "        num = int(input(\"Inserisci un numero (0 per fermare): \"))\n",
    "        if num == 0:\n",
    "            break\n",
    "        somma += num\n",
    "    print(\"La somma è:\", somma)\n",
    "\n",
    "somma_numeri()"
   ]
  },
  {
   "cell_type": "code",
   "execution_count": 13,
   "metadata": {},
   "outputs": [
    {
     "name": "stdout",
     "output_type": "stream",
     "text": [
      "La somma è: 12\n"
     ]
    }
   ],
   "source": [
    "def somma_numeri():\n",
    "    somma = 0\n",
    "    i = 0\n",
    "    while True:\n",
    "        num = int(input(\"Inserisci un numero (0 per fermare): \"))\n",
    "        if num == 0:\n",
    "            break\n",
    "        for _ in range(1):  # ciclo for con range, ma solo per 1 iterazione\n",
    "            somma += num\n",
    "        i += 1\n",
    "    print(\"La somma è:\", somma)\n",
    "\n",
    "somma_numeri()"
   ]
  },
  {
   "cell_type": "markdown",
   "metadata": {},
   "source": [
    "# Liste"
   ]
  },
  {
   "cell_type": "code",
   "execution_count": 14,
   "metadata": {},
   "outputs": [
    {
     "name": "stdout",
     "output_type": "stream",
     "text": [
      "4\n",
      "<class 'float'>\n",
      "<class 'list'>\n",
      "7\n"
     ]
    }
   ],
   "source": [
    "L = [1, 2, 3, [4, 5,[6,7]]]\n",
    "print(len(L))\n",
    "\n",
    "a = 3.14\n",
    "print(type(a))\n",
    "print(type(L))\n",
    "\n",
    "\n",
    "def conta_atomi(L):\n",
    "    \"\"\"\n",
    "    Returns the number of atoms in x.\n",
    "    \"\"\"\n",
    "    def is_list(x):\n",
    "\n",
    "        return type(x) is list\n",
    "\n",
    "    C = 0\n",
    "    for e in L:\n",
    "        if is_list(e):\n",
    "            C += conta_atomi(e)\n",
    "        else:\n",
    "            C += 1\n",
    "    return C\n",
    "\n",
    "#test\n",
    "print(conta_atomi(L))\n",
    "\n"
   ]
  },
  {
   "cell_type": "code",
   "execution_count": 15,
   "metadata": {},
   "outputs": [
    {
     "name": "stdout",
     "output_type": "stream",
     "text": [
      "7\n"
     ]
    }
   ],
   "source": [
    "L = [1, 2, 3, [4, 5,[6,7]]]\n",
    "#funzione lambda\n",
    "#(lambda x : type(x) is list)\n",
    "\n",
    "def conta_atomi(L):\n",
    "    \"\"\"\n",
    "    Returns the number of atoms in x.\n",
    "    \"\"\"\n",
    "    C = 0\n",
    "    for e in L:\n",
    "        if (lambda x : type(x) is list)(e):\n",
    "            C += conta_atomi(e)\n",
    "        else:\n",
    "            C += 1\n",
    "    return C\n",
    "\n",
    "#test\n",
    "print(conta_atomi(L))"
   ]
  },
  {
   "cell_type": "code",
   "execution_count": 16,
   "metadata": {},
   "outputs": [
    {
     "name": "stdout",
     "output_type": "stream",
     "text": [
      "[0, 4, 8, 12, 16, 20, 24, 28, 32, 36, 40, 44, 48, 52, 56, 60, 64, 68, 72, 76, 80, 84, 88, 92, 96, 100]\n",
      "[0, 4, 8, 12, 16, 20, 24, 28, 32, 36, 40, 44, 48, 52, 56, 60, 64, 68, 72, 76, 80, 84, 88, 92, 96]\n",
      "[0, 3, 6, 9, 12, 15, 18, 21, 24, 27, 30]\n"
     ]
    }
   ],
   "source": [
    "def multipli_4(base,limite):\n",
    "    multipli_di_4 = []\n",
    "    for i in range(limite + 1):\n",
    "        if i % base == 0:\n",
    "            multipli_di_4.append(i)\n",
    "    return multipli_di_4\n",
    "\n",
    "numeri_multipli = multipli_4(4,100)\n",
    "print(numeri_multipli)\n",
    "\n",
    "#list comprehension\n",
    "\n",
    "numeri_multipli = [i for i in range(100) if i % 4 == 0]\n",
    "print(numeri_multipli)\n",
    "\n",
    "#lambda\n",
    "multipli_breve = (lambda base,limite : [i for i in range(limite + 1) if i % base == 0])\n",
    "print(multipli_breve(3,30))"
   ]
  },
  {
   "cell_type": "code",
   "execution_count": 17,
   "metadata": {},
   "outputs": [
    {
     "name": "stdout",
     "output_type": "stream",
     "text": [
      "[1, 2, 3, 4, 5, 6, 7, 8]\n"
     ]
    }
   ],
   "source": [
    "\"\"\"\n",
    "data una lista aanidata restituire una lista flat\n",
    "esempio  \n",
    "L = [1, 2, 3, [4, 5,[6,7]]]\n",
    "Lflat = [1, 2, 3, 4, 5, 6, 7]\n",
    "\n",
    "\"\"\"\n",
    "L = [1, 2, 3, [4, 5,[6,7,8]]]\n",
    "def flat(L):\n",
    "    Lflat = []\n",
    "    for e in L:\n",
    "        if (lambda x : type(x) is list)(e):\n",
    "            Lflat.extend(flat(e))\n",
    "        else:\n",
    "            Lflat.append(e)\n",
    "    return Lflat\n",
    "\n",
    "print(flat(L))\n"
   ]
  },
  {
   "cell_type": "markdown",
   "metadata": {},
   "source": [
    "## Esercici liste"
   ]
  },
  {
   "cell_type": "code",
   "execution_count": 18,
   "metadata": {},
   "outputs": [
    {
     "name": "stdout",
     "output_type": "stream",
     "text": [
      "2\n"
     ]
    }
   ],
   "source": [
    "\"\"\"\n",
    "data una lista restituire il suo livello di annidamento\n",
    "esempio \n",
    "L=[1,2,3] -> 0\n",
    "L=[1,2,3,[4,5]] -> 1\n",
    "\"\"\"\n",
    "\n",
    "\n",
    "L = [1, 2, 3, [4, 5,[6,7]]]\n",
    "def livello_annidamento(L): \n",
    "    nido = 0\n",
    "    for e in L:\n",
    "        if type(e) is list:\n",
    "            nido +=1 + livello_annidamento(e)\n",
    "    return nido\n",
    "             \n",
    "\n",
    "print(livello_annidamento(L))"
   ]
  },
  {
   "cell_type": "markdown",
   "metadata": {},
   "source": [
    "# Tuple"
   ]
  },
  {
   "cell_type": "code",
   "execution_count": 19,
   "metadata": {},
   "outputs": [
    {
     "name": "stdout",
     "output_type": "stream",
     "text": [
      "<class 'tuple'>\n",
      "1\n",
      "0\n",
      "2\n",
      "Errore\n"
     ]
    }
   ],
   "source": [
    "T = (1,2,3)\n",
    "print(type(T))\n",
    "dir(T)\n",
    "\n",
    "print(T.count(3))\n",
    "print(T.count(7))\n",
    "print(T.index(3))\n",
    "try:\n",
    "    print(T.index(7))\n",
    "except:\n",
    "    print(\"Errore\")\n",
    "\n",
    "#le tuple sono immutabili\n",
    "#le stringhe sono immutabili\n",
    "\n"
   ]
  },
  {
   "cell_type": "code",
   "execution_count": 20,
   "metadata": {},
   "outputs": [
    {
     "name": "stdout",
     "output_type": "stream",
     "text": [
      "313 è un numero primo\n",
      "91053968742\n",
      "False\n",
      "1\n",
      "4\n",
      "0.0\n",
      "4\n",
      "0.0\n",
      "0.08477449417114258\n",
      "0.022615909576416016\n",
      "35\n",
      "La percentuale di numeri primi tra 1 e 100 è: 25.00%\n"
     ]
    }
   ],
   "source": [
    "\"\"\"\n",
    "vedi se un numero è primo o no\n",
    "\"\"\"\n",
    "def is_primo(numero):\n",
    "    if numero <= 1:\n",
    "        return False\n",
    "    for i in range(2, int(numero ** 0.5) + 1):\n",
    "        if numero % i == 0:\n",
    "            return False\n",
    "    return True\n",
    "\n",
    "# Esempio di utilizzo:\n",
    "numero = 313\n",
    "if is_primo(numero):\n",
    "    print(f\"{numero} è un numero primo\")\n",
    "else:\n",
    "    print(f\"{numero} non è un numero primo\")\n",
    "    \n",
    "from random import randint\n",
    "n = randint(4,10**12)\n",
    "print(n)\n",
    "print(is_primo(n))\n",
    "\n",
    "\n",
    "\n",
    "\"\"\" \n",
    "funzione per trovare il MCD di un numero\n",
    "\"\"\"\n",
    "\n",
    "def MCD(m, n):\n",
    "    a = min(m, n)\n",
    "    b = max(m, n)\n",
    "    if b % a == 0:\n",
    "        return a\n",
    "    else:\n",
    "        return MCD(a, b % a)\n",
    "print(MCD(5, 7))\n",
    "\n",
    "\n",
    "# MCD con import math\n",
    "\n",
    "from math import gcd\n",
    "from time import time \n",
    "from random import randint\n",
    "\n",
    "# assegnamento var su due righe\n",
    "x = randint(1,10++9)\n",
    "y = randint(1,10++9)\n",
    "# assegnamento var su una riga\n",
    "x1, y1 = randint(1,10++9), randint(1,10++9)\n",
    "\n",
    "start1 = time()\n",
    "print(MCD(x,y))\n",
    "end1 = time()\n",
    "tempo1 = end1 - start1\n",
    "print(tempo1)\n",
    "# ver semplificata \n",
    "start2 = time()\n",
    "print(MCD(x,y))\n",
    "print(time() - start2)\n",
    "# confronto libreria con codice scritto\n",
    "start3 = time()\n",
    "for i in range(10**5):\n",
    "    MCD(x,y)\n",
    "print(time() - start3)\n",
    "\n",
    "start4 = time()\n",
    "for i in range(10**5):\n",
    "    gcd(x, y)\n",
    "print(time() - start4)\n",
    "\"\"\" \n",
    "Funzione minimo comune multiplo \n",
    "\"\"\"\n",
    "\n",
    "def MCM(a, b):\n",
    "    return a * b // MCD(a, b)\n",
    "\n",
    "print(MCM(5, 7))  # Output: 15\n",
    "\n",
    "\n",
    "\n",
    "\"\"\" \n",
    "esercizio in percentuale quanti sono numeri primi tra 1 e K\n",
    "\"\"\"\n",
    "def conta_numeri_primi(K):\n",
    "    def is_primo(n):\n",
    "        if n <= 1:\n",
    "            return False\n",
    "        for i in range(2, int(n**0.5) + 1):\n",
    "            if n % i == 0:\n",
    "                return False\n",
    "        return True\n",
    "\n",
    "    numeri_primi = [n for n in range(1, K+1) if is_primo(n)]\n",
    "    percentuale = len(numeri_primi) / K * 100\n",
    "    return percentuale\n",
    "\n",
    "K = 100  # esempio\n",
    "percentuale = conta_numeri_primi(K)\n",
    "print(f\"La percentuale di numeri primi tra 1 e {K} è: {percentuale:.2f}%\")\n",
    "\n"
   ]
  },
  {
   "cell_type": "code",
   "execution_count": 21,
   "metadata": {},
   "outputs": [
    {
     "name": "stdout",
     "output_type": "stream",
     "text": [
      "0\n",
      "1\n",
      "2\n",
      "3\n",
      "4\n",
      "5\n",
      "6\n",
      "7\n",
      "8\n",
      "9\n",
      "10\n",
      "11\n",
      "12\n",
      "13\n",
      "14\n",
      "15\n",
      "16\n",
      "17\n",
      "18\n",
      "19\n",
      "20\n",
      "21\n",
      "22\n",
      "23\n",
      "24\n",
      "25\n",
      "26\n",
      "27\n",
      "28\n",
      "29\n",
      "30\n",
      "31\n",
      "32\n",
      "33\n",
      "34\n",
      "35\n",
      "36\n",
      "37\n",
      "38\n",
      "39\n",
      "40\n",
      "41\n",
      "42\n",
      "43\n",
      "44\n",
      "45\n",
      "46\n",
      "47\n",
      "48\n",
      "49\n",
      "50\n",
      "51\n",
      "52\n",
      "53\n",
      "54\n",
      "55\n",
      "56\n",
      "57\n",
      "58\n",
      "59\n",
      "60\n",
      "61\n",
      "62\n",
      "63\n",
      "64\n",
      "65\n",
      "66\n",
      "67\n",
      "68\n",
      "69\n",
      "70\n",
      "71\n",
      "72\n",
      "73\n",
      "74\n",
      "75\n",
      "76\n",
      "77\n",
      "78\n",
      "79\n",
      "80\n",
      "81\n",
      "82\n",
      "83\n",
      "84\n",
      "85\n",
      "86\n",
      "87\n",
      "88\n",
      "89\n",
      "90\n",
      "91\n",
      "92\n",
      "93\n",
      "94\n",
      "95\n",
      "96\n",
      "97\n",
      "98\n",
      "99\n"
     ]
    }
   ],
   "source": [
    "G = (i for i in range(100))\n",
    "\n",
    "for gen in G:\n",
    "    print(gen)\n",
    "    "
   ]
  },
  {
   "cell_type": "markdown",
   "metadata": {},
   "source": [
    "# Dizionari"
   ]
  },
  {
   "cell_type": "code",
   "execution_count": 22,
   "metadata": {},
   "outputs": [
    {
     "name": "stdout",
     "output_type": "stream",
     "text": [
      "30\n",
      "dict_keys(['Mario', 'Luigi', 'Peach'])\n",
      "dict_values([30, 40, 50])\n",
      "dict_items([('Mario', 30), ('Luigi', 40), ('Peach', 50)])\n",
      "Mario 30\n",
      "Luigi 40\n",
      "Peach 50\n",
      "41\n",
      "41\n",
      "40\n",
      "41\n",
      "{'Mario': 30, 'Peach': 50}\n",
      "{'Mario': 30, 'Peach': 50, 'Toad': 60}\n",
      "{'Mario': 30, 'Toad': 60, 'Luigi': 45}\n"
     ]
    }
   ],
   "source": [
    "D = {\"Mario\" : 30, \"Luigi\" : 40, \"Peach\" : 50}\n",
    "\n",
    "print(D[\"Mario\"])\n",
    "print(D.keys())\n",
    "print(D.values())\n",
    "print(D.items())\n",
    "for chiave, valore in D.items():\n",
    "    print(chiave, valore)\n",
    "    \n",
    "dir(D)\n",
    "F = D.copy()\n",
    "\n",
    "E = D\n",
    "E[\"Luigi\"] = 41\n",
    "print(D[\"Luigi\"])\n",
    "print(E[\"Luigi\"])\n",
    "print(F[\"Luigi\"])\n",
    "print(D.pop(\"Luigi\"))\n",
    "print(D)\n",
    "D.setdefault(\"Toad\", 60)\n",
    "print(D)\n",
    "D.update({\"Luigi\" : 45})\n",
    "D.pop(\"Peach\")\n",
    "print(D)"
   ]
  },
  {
   "cell_type": "code",
   "execution_count": 23,
   "metadata": {},
   "outputs": [
    {
     "name": "stdout",
     "output_type": "stream",
     "text": [
      "('b', 2)\n",
      "{30: True, 40: False, 10: True, 20: False}\n",
      "{10: True, 20: True, 30: True}\n",
      "{10: True, 20: True, 30: True}\n",
      "True\n",
      "{1: True, 2: True, 3: True}\n"
     ]
    }
   ],
   "source": [
    "D1 = {\"a\" : 1, \"b\" : 2}\n",
    "sum(D1.values())\n",
    "\n",
    "print(D1.popitem())\n",
    "\n",
    "E1 = {10: True, 20: False}\n",
    "F1 = {30: True, 40: False}\n",
    "\n",
    "F1.update(E1)\n",
    "print(F1)\n",
    "\n",
    "G1 = [10, 20, 30]\n",
    "H1 = [True]*3\n",
    "\n",
    "print(dict(zip(G1, H1)))\n",
    "\n",
    "S = {}\n",
    "for i in range(len(G1)):\n",
    "    S[G1[i]] = H1[i]\n",
    "print(S)\n",
    "\n",
    "print(S.get(10))\n",
    "\n",
    "K = S.fromkeys([1,2,3], True)\n",
    "print(K)"
   ]
  },
  {
   "cell_type": "markdown",
   "metadata": {},
   "source": [
    "# Set"
   ]
  },
  {
   "cell_type": "code",
   "execution_count": 24,
   "metadata": {},
   "outputs": [
    {
     "name": "stdout",
     "output_type": "stream",
     "text": [
      "<class 'set'>\n",
      "3\n",
      "1\n",
      "{1, 2, 3}\n",
      "{200, 100, 500, 300}\n",
      "{1, 2, 3, 100, 500, 200, 300}\n",
      "{1, 2, 3}\n"
     ]
    }
   ],
   "source": [
    "S = {1}\n",
    "print(type(S))\n",
    "\n",
    "S1 = {1, 2, 3}\n",
    "print(len(S1))\n",
    "\n",
    "S2 = set([0]*100)\n",
    "print(len(S2))\n",
    "\n",
    "S3 = set({})\n",
    "\n",
    "S3.add(1)\n",
    "S3.add(2)\n",
    "S3.add(3)\n",
    "print(S3)\n",
    "\n",
    "S4 = set({100, 200, 300})\n",
    "S4.add(500)\n",
    "print(S4)\n",
    "\n",
    "\n",
    "print(S3.union(S4))\n",
    "print(S3.difference(S4))"
   ]
  },
  {
   "cell_type": "markdown",
   "metadata": {},
   "source": [
    "# File"
   ]
  },
  {
   "cell_type": "code",
   "execution_count": 25,
   "metadata": {},
   "outputs": [
    {
     "name": "stdout",
     "output_type": "stream",
     "text": [
      "Hello World\n",
      "Hello World\n",
      "I'm fine\n",
      "['Hello World\\n', \"I'm fine\"]\n"
     ]
    }
   ],
   "source": [
    "\"\"\" \n",
    "creare un file di testo e modifica\n",
    "\"\"\"\n",
    "\n",
    "f = open(\"testo.txt\", \"w\")\n",
    "f.write(\"Hello World\")\n",
    "f.close()\n",
    "\n",
    "f = open(\"testo.txt\", \"r\")\n",
    "print(f.read())\n",
    "f.close()\n",
    "\n",
    "f = open(\"testo.txt\", \"a\")\n",
    "f.write(\"\\nI'm fine\")\n",
    "f.close()\n",
    "\n",
    "f = open(\"testo.txt\", \"r\")\n",
    "print(f.read())\n",
    "f.close()\n",
    "\n",
    "f = open(\"testo.txt\", \"r\")\n",
    "print(f.readlines())\n",
    "f.close()\n",
    "\n"
   ]
  },
  {
   "cell_type": "markdown",
   "metadata": {},
   "source": [
    "# OS"
   ]
  },
  {
   "cell_type": "code",
   "execution_count": 26,
   "metadata": {},
   "outputs": [
    {
     "name": "stdout",
     "output_type": "stream",
     "text": [
      "<class '_io.TextIOWrapper'>\n",
      "Is this the KrustyCrab \n",
      "No this is Patrick \n",
      "I SAID THIS IS PATRICK\n",
      "Is this th\n",
      "e KrustyCr\n",
      "['Is this the KrustyCrab \\n', 'No this is Patrick \\n', 'I SAID THIS IS PATRICK']\n",
      "Is this the KrustyCrab \n",
      "\n",
      "No this is Patrick \n",
      "\n",
      "I SAID THIS IS PATRICK\n",
      "Is this the KrustyCrab \n",
      "\n",
      "No this is Patrick \n",
      "\n",
      "I SAID THIS IS PATRICK\n"
     ]
    }
   ],
   "source": [
    "import os\n",
    "# comandi importanti\n",
    "os.getcwd()\n",
    "\n",
    "os.listdir()\n",
    "\n",
    "os.chdir(\"C:\\\\Users\\\\alber\\\\Desktop\\\\PROG\\\\Python\")\n",
    "os.getcwd()\n",
    "\n",
    "#os.mkdir(\"Ciao\")\n",
    "os.chdir(\"Ciao\")\n",
    "\n",
    "# lavorare con file\n",
    "\n",
    "file1 = open(\"esempio.txt\", \"w\")\n",
    "print(type(file1))\n",
    "file1.write(\"All your bases\")\n",
    "file1.write(\"\\nAre belong to us\")\n",
    "file1.close()\n",
    "\n",
    "meme = [\"Is this the KrustyCrab \\n\", \"No this is Patrick \\n\"]\n",
    "file2 = open(\"esempio2.txt\", \"w\")\n",
    "file2.writelines(meme)\n",
    "file2.close()\n",
    "\n",
    "file2 = open(\"esempio2.txt\", \"a\")\n",
    "file2.write(\"I SAID THIS IS PATRICK\")\n",
    "file2.close()\n",
    "\n",
    "file2 = open(\"esempio2.txt\", \"r\")\n",
    "print(file2.read())\n",
    "file2.close()\n",
    "file2 = open(\"esempio2.txt\", \"r\")\n",
    "print(file2.read(10))\n",
    "print(file2.read(10))\n",
    "file2.close()\n",
    "file2 = open(\"esempio2.txt\", \"r\")\n",
    "print(file2.readlines())\n",
    "file2.close()\n",
    "file2 = open(\"esempio2.txt\", \"r\")\n",
    "for line in file2:\n",
    "    print(line)\n",
    "file2.close()\n",
    "file2 = open(\"esempio2.txt\", \"r\")\n",
    "while True:\n",
    "    L = file2.readline()\n",
    "    if not L:\n",
    "        break\n",
    "    print(L)\n",
    "file2.close()\n"
   ]
  },
  {
   "cell_type": "code",
   "execution_count": null,
   "metadata": {},
   "outputs": [
    {
     "name": "stdout",
     "output_type": "stream",
     "text": [
      "C:\\Users\\alber\\Desktop\\PROG\\Python\n",
      "['.venv', '.vscode', 'Ciao', 'Client.py', 'dbController.py', 'dbController2.py', 'dbController3.py', 'esempio.txt', 'mogdbController.py', 'mogdbController2.py', 'mogdbTest.py', 'MyFile.txt', 'negoziopc.py', 'Notebook.ipynb', 'Notebook1.ipynb', 'Notebook2.ipynb', 'Ping.py', 'PIZZAMIGLIO_ALBERTO_ES1.py', 'PIZZAMIGLIO_ALBERTO_ES2.py', 'PIZZAMIGLIO_ALBERTO_ES3.py', 'PIZZAMIGLIO_ALBERTO_ES4.py', 'prova.py', 'Ripasso Py.ipynb', 'Ripasso.ipynb', 'Server.py', 'tempCodeRunnerFile.ipynb', 'test.py', 'test1.py', 'test2.py', 'test3.py', 'testo.txt']\n",
      "C:\\Users\\alber\\Desktop\\PROG\\Python\n"
     ]
    }
   ],
   "source": [
    "import os\n",
    "print(os.getcwd())\n",
    "print(os.listdir())\n",
    "os.chdir(\"C:\\\\Users\\\\alber\\\\Desktop\\\\PROG\\\\Python\")\n",
    "print(os.getcwd())"
   ]
  },
  {
   "cell_type": "markdown",
   "metadata": {},
   "source": [
    "# Eserciczi di ripasso"
   ]
  },
  {
   "cell_type": "code",
   "execution_count": 27,
   "metadata": {},
   "outputs": [
    {
     "name": "stdout",
     "output_type": "stream",
     "text": [
      "Scegli un'azione:\n",
      "  1. Inserisci nuovo studente\n",
      "  2. Visualizza studenti\n",
      "  3. Modifica studente\n",
      "  4. Uscita\n",
      "Scegli un'azione:\n",
      "  1. Inserisci nuovo studente\n",
      "  2. Visualizza studenti\n",
      "  3. Modifica studente\n",
      "  4. Uscita\n",
      "Matricola: 1\n",
      "Nome: Al\n",
      "Materie:\n",
      "  : False\n",
      "\n",
      "Scegli un'azione:\n",
      "  1. Inserisci nuovo studente\n",
      "  2. Visualizza studenti\n",
      "  3. Modifica studente\n",
      "  4. Uscita\n",
      "Materia nuova. Aggiunta:\n",
      "Scegli un'azione:\n",
      "  1. Inserisci nuovo studente\n",
      "  2. Visualizza studenti\n",
      "  3. Modifica studente\n",
      "  4. Uscita\n",
      "Matricola: 1\n",
      "Nome: Al\n",
      "Materie:\n",
      "  : False\n",
      "  Ita: True\n",
      "\n",
      "Scegli un'azione:\n",
      "  1. Inserisci nuovo studente\n",
      "  2. Visualizza studenti\n",
      "  3. Modifica studente\n",
      "  4. Uscita\n"
     ]
    }
   ],
   "source": [
    "studenti = {}\n",
    "matricola_corrente = 1\n",
    "\n",
    "def inserisci_nuovo_studente():\n",
    "    global matricola_corrente\n",
    "    nome = input(\"Inserisci il nome dello studente: \")\n",
    "    materie = []\n",
    "\n",
    "    while True:\n",
    "        materia = input(\"Inserisci il nome della materia (o 'fine' per terminare): \")\n",
    "        if materia.lower() == \"fine\":\n",
    "            break\n",
    "        passato = input(\"Ha passato la materia? (s/n): \")\n",
    "        passato = passato.lower() == \"s\"\n",
    "        materie.append({\"materia\": materia, \"passato\": True if passato else False})\n",
    "\n",
    "    studenti[matricola_corrente] = {\"nome\": nome, \"materie\": materie}\n",
    "    matricola_corrente += 1\n",
    "\n",
    "def visualizza_studenti():\n",
    "    for matricola, studente in studenti.items():\n",
    "        print(f\"Matricola: {matricola}\")\n",
    "        print(f\"Nome: {studente['nome']}\")\n",
    "        print(\"Materie:\")\n",
    "        for materia in studente[\"materie\"]:\n",
    "            print(f\"  {materia['materia']}: {materia['passato']}\")\n",
    "        print()\n",
    "\n",
    "def modifica_studente():\n",
    "    matricola = int(input(\"Inserisci la matricola dello studente da modificare: \"))\n",
    "    if matricola in studenti.keys():\n",
    "        materia = input(\"Inserisci il nome della materia: \")\n",
    "        for materia_presente in studenti[matricola][\"materie\"]:\n",
    "            if materia_presente[\"materia\"] == materia:\n",
    "                print(\"Materia già presente. Aggiornamento:\")\n",
    "                materia_presente[\"materia\"] = materia\n",
    "                materia_presente[\"passato\"] = input(\"Ha passato la materia? (s/n): \").lower() == \"s\"\n",
    "                break\n",
    "        else:\n",
    "            print(\"Materia nuova. Aggiunta:\")\n",
    "            studenti[matricola][\"materie\"].append({\"materia\": materia, \"passato\": input(\"Ha passato la materia? (s/n): \").lower() == \"s\"})\n",
    "\n",
    "    else:\n",
    "        print(\"Matricola non trovata.\")\n",
    "\n",
    "def main():\n",
    "    while True:\n",
    "        print(\"Scegli un'azione:\")\n",
    "        print(\"  1. Inserisci nuovo studente\")\n",
    "        print(\"  2. Visualizza studenti\")\n",
    "        print(\"  3. Modifica studente\")\n",
    "        print(\"  4. Uscita\")\n",
    "\n",
    "        scelta = input(\"Inserisci la tua scelta (1-4): \")\n",
    "\n",
    "        if scelta == \"4\":\n",
    "            break\n",
    "\n",
    "        elif scelta == \"1\":\n",
    "            inserisci_nuovo_studente()\n",
    "\n",
    "        elif scelta == \"2\":\n",
    "            visualizza_studenti()\n",
    "\n",
    "        elif scelta == \"3\":\n",
    "            modifica_studente()\n",
    "\n",
    "        else:\n",
    "            print(\"Scelta non valida. Riprova.\")\n",
    "\n",
    "if __name__ == \"__main__\":\n",
    "    main()\n"
   ]
  },
  {
   "cell_type": "code",
   "execution_count": 28,
   "metadata": {},
   "outputs": [
    {
     "name": "stdout",
     "output_type": "stream",
     "text": [
      "Scegli un'azione:\n",
      "  1. Inserisci nuovo studente\n",
      "  2. Visualizza studenti\n",
      "  3. Modifica studente\n",
      "  4. Uscita\n",
      "Scegli un'azione:\n",
      "  1. Inserisci nuovo studente\n",
      "  2. Visualizza studenti\n",
      "  3. Modifica studente\n",
      "  4. Uscita\n",
      "Matricola: 1\n",
      "Nome: Bel\n",
      "Materie:\n",
      "  Mat: False\n",
      "\n",
      "Scegli un'azione:\n",
      "  1. Inserisci nuovo studente\n",
      "  2. Visualizza studenti\n",
      "  3. Modifica studente\n",
      "  4. Uscita\n",
      "Materia già presente. Aggiornamento:\n",
      "Scegli un'azione:\n",
      "  1. Inserisci nuovo studente\n",
      "  2. Visualizza studenti\n",
      "  3. Modifica studente\n",
      "  4. Uscita\n",
      "Matricola: 1\n",
      "Nome: Bel\n",
      "Materie:\n",
      "  Mat: True\n",
      "\n",
      "Scegli un'azione:\n",
      "  1. Inserisci nuovo studente\n",
      "  2. Visualizza studenti\n",
      "  3. Modifica studente\n",
      "  4. Uscita\n"
     ]
    }
   ],
   "source": [
    "studenti = {}\n",
    "matricola_corrente = 1\n",
    "\n",
    "def inserisci_nuovo_studente():\n",
    "    global matricola_corrente\n",
    "    nome = input(\"Inserisci il nome dello studente: \")\n",
    "    materie = {}\n",
    "\n",
    "    while True:\n",
    "        materia = input(\"Inserisci il nome della materia (o 'fine' per terminare): \")\n",
    "        if materia.lower() == \"fine\":\n",
    "            break\n",
    "        passato = input(\"Ha passato la materia? (s/n): \").lower() == \"s\"\n",
    "        materie[materia] = passato\n",
    "\n",
    "    studenti[matricola_corrente] = {\"nome\": nome, \"materie\": materie}\n",
    "    matricola_corrente += 1\n",
    "\n",
    "def visualizza_studenti():\n",
    "    for matricola, studente in studenti.items():\n",
    "        print(f\"Matricola: {matricola}\")\n",
    "        print(f\"Nome: {studente['nome']}\")\n",
    "        print(\"Materie:\")\n",
    "        for materia, passato in studente[\"materie\"].items():\n",
    "            print(f\"  {materia}: {passato}\")\n",
    "        print()\n",
    "\n",
    "def modifica_studente():\n",
    "    matricola = int(input(\"Inserisci la matricola dello studente da modificare: \"))\n",
    "    if matricola in studenti:\n",
    "        materia = input(\"Inserisci il nome della materia: \")\n",
    "        if materia in studenti[matricola][\"materie\"]:\n",
    "            print(\"Materia già presente. Aggiornamento:\")\n",
    "            studenti[matricola][\"materie\"][materia] = input(\"Ha passato la materia? (s/n): \").lower() == \"s\"\n",
    "        else:\n",
    "            print(\"Materia nuova. Aggiunta:\")\n",
    "            studenti[matricola][\"materie\"][materia] = input(\"Ha passato la materia? (s/n): \").lower() == \"s\"\n",
    "\n",
    "    else:\n",
    "        print(\"Matricola non trovata.\")\n",
    "\n",
    "def main():\n",
    "    while True:\n",
    "        print(\"Scegli un'azione:\")\n",
    "        print(\"  1. Inserisci nuovo studente\")\n",
    "        print(\"  2. Visualizza studenti\")\n",
    "        print(\"  3. Modifica studente\")\n",
    "        print(\"  4. Uscita\")\n",
    "\n",
    "        scelta = input(\"Inserisci la tua scelta (1-4): \")\n",
    "\n",
    "        if scelta == \"4\":\n",
    "            break\n",
    "\n",
    "        elif scelta == \"1\":\n",
    "            inserisci_nuovo_studente()\n",
    "\n",
    "        elif scelta == \"2\":\n",
    "            visualizza_studenti()\n",
    "\n",
    "        elif scelta == \"3\":\n",
    "            modifica_studente()\n",
    "\n",
    "        else:\n",
    "            print(\"Scelta non valida. Riprova.\")\n",
    "\n",
    "if __name__ == \"__main__\":\n",
    "    main()"
   ]
  },
  {
   "cell_type": "code",
   "execution_count": 29,
   "metadata": {},
   "outputs": [
    {
     "name": "stdout",
     "output_type": "stream",
     "text": [
      "File non trovato.\n",
      "Scegli un'azione:\n",
      "  1. Inserisci nuovo studente\n",
      "  2. Visualizza studenti\n",
      "  3. Modifica studente\n",
      "  4. Salva su disco\n",
      "  5. Carica da disco\n",
      "  6. Uscita\n"
     ]
    }
   ],
   "source": [
    "studenti = {}\n",
    "matricola_corrente = 1\n",
    "\n",
    "def inserisci_nuovo_studente():\n",
    "    global matricola_corrente\n",
    "    nome = input(\"Inserisci il nome dello studente: \")\n",
    "    materie = {}\n",
    "\n",
    "    while True:\n",
    "        materia = input(\"Inserisci il nome della materia (o 'fine' per terminare): \")\n",
    "        if materia.lower() == \"fine\":\n",
    "            break\n",
    "        passato = input(\"Ha passato la materia? (s/n): \").lower() == \"s\"\n",
    "        materie[materia] = passato\n",
    "\n",
    "    studenti[matricola_corrente] = {\"nome\": nome, \"materie\": materie}\n",
    "    matricola_corrente += 1\n",
    "\n",
    "def visualizza_studenti():\n",
    "    for matricola, studente in studenti.items():\n",
    "        print(f\"Matricola: {matricola}\")\n",
    "        print(f\"Nome: {studente['nome']}\")\n",
    "        print(\"Materie:\")\n",
    "        for materia, passato in studente[\"materie\"].items():\n",
    "            print(f\"  {materia}: {passato}\")\n",
    "        print()\n",
    "\n",
    "def modifica_studente():\n",
    "    matricola = int(input(\"Inserisci la matricola dello studente da modificare: \"))\n",
    "    if matricola in studenti:\n",
    "        materia = input(\"Inserisci il nome della materia: \")\n",
    "        if materia in studenti[matricola][\"materie\"]:\n",
    "            print(\"Materia già presente. Aggiornamento:\")\n",
    "            studenti[matricola][\"materie\"][materia] = input(\"Ha passato la materia? (s/n): \").lower() == \"s\"\n",
    "        else:\n",
    "            print(\"Materia nuova. Aggiunta:\")\n",
    "            studenti[matricola][\"materie\"][materia] = input(\"Ha passato la materia? (s/n): \").lower() == \"s\"\n",
    "\n",
    "    else:\n",
    "        print(\"Matricola non trovata.\")\n",
    "\n",
    "def salva_su_disco():\n",
    "    file = open(\"studenti.txt\", \"w\")\n",
    "    for matricola, studente in studenti.items():\n",
    "        file.write(f\"Matricola: {matricola}\\n\")\n",
    "        file.write(f\"Nome: {studente['nome']}\\n\")\n",
    "        file.write(\"Materie:\\n\")\n",
    "        for materia, passato in studente[\"materie\"].items():\n",
    "            file.write(f\"  {materia}: {passato}\\n\")\n",
    "        file.write(\"\\n\")\n",
    "    file.close()\n",
    "\n",
    "def carica_da_disco():\n",
    "    try:\n",
    "        file = open(\"studenti.txt\", \"r\")\n",
    "        lines = file.readlines()\n",
    "        studenti.clear()\n",
    "        matricola_corrente = 1\n",
    "        for i in range(0, len(lines), 5):\n",
    "            matricola = matricola_corrente\n",
    "            nome = lines[i+1].strip().split(\": \")[1]\n",
    "            materie = {}\n",
    "            for materia in lines[i+3].strip().split(\", \"):\n",
    "                materia = materia.strip().split(\": \")\n",
    "                materie[materia[0]] = materia[1] == \"True\"\n",
    "            studenti[matricola] = {\"nome\": nome, \"materie\": materie}\n",
    "            matricola_corrente += 1\n",
    "        file.close()\n",
    "    except FileNotFoundError:\n",
    "        print(\"File non trovato.\")\n",
    "\n",
    "def main():\n",
    "    carica_da_disco()\n",
    "\n",
    "    while True:\n",
    "        print(\"Scegli un'azione:\")\n",
    "        print(\"  1. Inserisci nuovo studente\")\n",
    "        print(\"  2. Visualizza studenti\")\n",
    "        print(\"  3. Modifica studente\")\n",
    "        print(\"  4. Salva su disco\")\n",
    "        print(\"  5. Carica da disco\")\n",
    "        print(\"  6. Uscita\")\n",
    "\n",
    "        scelta = input(\"Inserisci la tua scelta (1-6): \")\n",
    "\n",
    "        if scelta == \"6\":\n",
    "            break\n",
    "\n",
    "        elif scelta == \"1\":\n",
    "            inserisci_nuovo_studente()\n",
    "\n",
    "        elif scelta == \"2\":\n",
    "            visualizza_studenti()\n",
    "\n",
    "        elif scelta == \"3\":\n",
    "            modifica_studente()\n",
    "\n",
    "        elif scelta == \"4\":\n",
    "            salva_su_disco()\n",
    "\n",
    "        elif scelta == \"5\":\n",
    "            carica_da_disco()\n",
    "\n",
    "        else:\n",
    "            print(\"Scelta non valida. Riprova.\")\n",
    "\n",
    "if __name__ == \"__main__\":\n",
    "    main()"
   ]
  },
  {
   "cell_type": "code",
   "execution_count": 30,
   "metadata": {},
   "outputs": [
    {
     "name": "stdout",
     "output_type": "stream",
     "text": [
      "File non trovato.\n",
      "Scegli un'azione:\n",
      "  1. Inserisci nuovo studente\n",
      "  2. Visualizza studenti\n",
      "  3. Modifica studente\n",
      "  4. Salva su disco\n",
      "  5. Carica da disco\n",
      "  6. Uscita\n"
     ]
    }
   ],
   "source": [
    "studenti = {}\n",
    "matricola_corrente = 1\n",
    "\n",
    "def inserisci_nuovo_studente():\n",
    "    global matricola_corrente\n",
    "    nome = input(\"Inserisci il nome dello studente: \")\n",
    "    materie = {}\n",
    "\n",
    "    while True:\n",
    "        materia = input(\"Inserisci il nome della materia (o 'fine' per terminare): \")\n",
    "        if materia.lower() == \"fine\":\n",
    "            break\n",
    "        passato = input(\"Ha passato la materia? (s/n): \").lower() == \"s\"\n",
    "        materie[materia] = passato\n",
    "\n",
    "    studenti[matricola_corrente] = {\"nome\": nome, \"materie\": materie}\n",
    "    matricola_corrente += 1\n",
    "\n",
    "def visualizza_studenti():\n",
    "    for matricola, studente in studenti.items():\n",
    "        print(f\"Matricola: {matricola}\")\n",
    "        print(f\"Nome: {studente['nome']}\")\n",
    "        print(\"Materie:\")\n",
    "        for materia, passato in studente[\"materie\"].items():\n",
    "            print(f\"  {materia}: {passato}\")\n",
    "        print()\n",
    "\n",
    "def modifica_studente():\n",
    "    matricola = int(input(\"Inserisci la matricola dello studente da modificare: \"))\n",
    "    if matricola in studenti:\n",
    "        materia = input(\"Inserisci il nome della materia: \")\n",
    "        if materia in studenti[matricola][\"materie\"]:\n",
    "            print(\"Materia già presente. Aggiornamento:\")\n",
    "            studenti[matricola][\"materie\"][materia] = input(\"Ha passato la materia? (s/n): \").lower() == \"s\"\n",
    "        else:\n",
    "            print(\"Materia nuova. Aggiunta:\")\n",
    "            studenti[matricola][\"materie\"][materia] = input(\"Ha passato la materia? (s/n): \").lower() == \"s\"\n",
    "\n",
    "    else:\n",
    "        print(\"Matricola non trovata.\")\n",
    "\n",
    "def salva_su_disco():\n",
    "    with open(\"studenti.txt\", \"w\") as file:\n",
    "        for matricola, studente in studenti.items():\n",
    "            file.write(f\"Matricola: {matricola}\\n\")\n",
    "            file.write(f\"Nome: {studente['nome']}\\n\")\n",
    "            file.write(\"Materie:\\n\")\n",
    "            for materia, passato in studente[\"materie\"].items():\n",
    "                file.write(f\"  {materia}: {passato}\\n\")\n",
    "            file.write(\"\\n\")\n",
    "\n",
    "def carica_da_disco():\n",
    "    try:\n",
    "        with open(\"studenti.txt\", \"r\") as file:\n",
    "            lines = file.readlines()\n",
    "            studenti.clear()\n",
    "            matricola_corrente = 1\n",
    "            for i in range(0, len(lines), 5):\n",
    "                matricola = matricola_corrente\n",
    "                nome = lines[i+1].strip().split(\": \")[1]\n",
    "                materie = {}\n",
    "                for materia in lines[i+3].strip().split(\", \"):\n",
    "                    materia = materia.strip().split(\": \")\n",
    "                    materie[materia[0]] = materia[1] == \"True\"\n",
    "                studenti[matricola] = {\"nome\": nome, \"materie\": materie}\n",
    "                matricola_corrente += 1\n",
    "    except FileNotFoundError:\n",
    "        print(\"File non trovato.\")\n",
    "\n",
    "def main():\n",
    "    carica_da_disco()\n",
    "\n",
    "    while True:\n",
    "        print(\"Scegli un'azione:\")\n",
    "        print(\"  1. Inserisci nuovo studente\")\n",
    "        print(\"  2. Visualizza studenti\")\n",
    "        print(\"  3. Modifica studente\")\n",
    "        print(\"  4. Salva su disco\")\n",
    "        print(\"  5. Carica da disco\")\n",
    "        print(\"  6. Uscita\")\n",
    "\n",
    "        scelta = input(\"Inserisci la tua scelta (1-6): \")\n",
    "\n",
    "        if scelta == \"6\":\n",
    "            break\n",
    "\n",
    "        elif scelta == \"1\":\n",
    "            inserisci_nuovo_studente()\n",
    "\n",
    "        elif scelta == \"2\":\n",
    "            visualizza_studenti()\n",
    "\n",
    "        elif scelta == \"3\":\n",
    "            modifica_studente()\n",
    "\n",
    "        elif scelta == \"4\":\n",
    "            salva_su_disco()\n",
    "\n",
    "        elif scelta == \"5\":\n",
    "            carica_da_disco()\n",
    "\n",
    "        else:\n",
    "            print(\"Scelta non valida. Riprova.\")\n",
    "\n",
    "if __name__ == \"__main__\":\n",
    "    main()"
   ]
  },
  {
   "cell_type": "markdown",
   "metadata": {},
   "source": [
    "# Esercizi casa "
   ]
  },
  {
   "cell_type": "code",
   "execution_count": 31,
   "metadata": {},
   "outputs": [
    {
     "name": "stdout",
     "output_type": "stream",
     "text": [
      "1\n"
     ]
    }
   ],
   "source": [
    "\"\"\"\n",
    "es 1\n",
    "data una lista di stringhe dato un carattere contare qunate stringhe iniziano con quel carattere\n",
    "\"\"\"\n",
    "def count_strings_starting_with_character(lista_stringhe, carattere):\n",
    "    count = 0\n",
    "    for stringa in lista_stringhe:\n",
    "        if stringa.startswith(carattere):\n",
    "            count += 1\n",
    "    return count\n",
    "lista_stringhe = [\"hello\", \"world\", \"python\", \"code\"]\n",
    "carattere = \"p\"\n",
    "count = count_strings_starting_with_character(lista_stringhe, carattere)\n",
    "print(count)"
   ]
  },
  {
   "cell_type": "code",
   "execution_count": 32,
   "metadata": {},
   "outputs": [
    {
     "name": "stdout",
     "output_type": "stream",
     "text": [
      "4\n"
     ]
    }
   ],
   "source": [
    "\"\"\" \n",
    "es 2\n",
    "data una lista di stringhe dato un carattere contare quante volte il caratter appare complessivamente in tutte le stringhe della lista\n",
    "\"\"\"\n",
    "def count_character_occurrences(lista_stringhe, carattere):\n",
    "    count = 0\n",
    "    for stringa in lista_stringhe:\n",
    "        count += stringa.count(carattere)\n",
    "    return count\n",
    "lista_stringhe = [\"hello\", \"world\", \"python\", \"code\"]\n",
    "carattere = \"o\"\n",
    "count = count_character_occurrences(lista_stringhe, carattere)\n",
    "print(count)\n"
   ]
  },
  {
   "cell_type": "code",
   "execution_count": 33,
   "metadata": {},
   "outputs": [
    {
     "name": "stdout",
     "output_type": "stream",
     "text": [
      "{'int': 3, 'float': 2, 'str': 2, 'bool': 2}\n"
     ]
    }
   ],
   "source": [
    "\"\"\" \n",
    "es 3\n",
    "data una lista non omogenea contare quanti int, quanti float, quante string e quanti booleani sono presenti\n",
    "\"\"\"\n",
    "def count_types(lista):\n",
    "    int_count = 0\n",
    "    float_count = 0\n",
    "    str_count = 0\n",
    "    bool_count = 0\n",
    "\n",
    "    for elemento in lista:\n",
    "        if elemento is True or elemento is False:\n",
    "            bool_count += 1\n",
    "        elif type(elemento) == int:\n",
    "            int_count += 1\n",
    "        elif type(elemento) == float:\n",
    "            float_count += 1\n",
    "        elif type(elemento) == str:\n",
    "            str_count += 1\n",
    "\n",
    "    return {\n",
    "        \"int\": int_count,\n",
    "        \"float\": float_count,\n",
    "        \"str\": str_count,\n",
    "        \"bool\": bool_count\n",
    "    }\n",
    "lista = [1, 2.5, \"hello\", True, 3, 4.2, \"world\", False, 5]\n",
    "result = count_types(lista)\n",
    "print(result)\n",
    "\n"
   ]
  },
  {
   "cell_type": "code",
   "execution_count": 34,
   "metadata": {},
   "outputs": [
    {
     "name": "stdout",
     "output_type": "stream",
     "text": [
      "{'o': 2, 'w': 1, 'r': 1, 'l': 3, 'd': 1, 'h': 1, 'e': 1}\n"
     ]
    }
   ],
   "source": [
    "\"\"\" \n",
    "es 4\n",
    "data una stringa e un set di caratteri creare un dizzionario\n",
    "che abbi per chiavi i caratteri dati e per valore il numero di occorrenze di tali caratteri nella stringa\n",
    "\"\"\"\n",
    "def count_chars(stringa, caratteri):\n",
    "    dizionario = {}\n",
    "    for carattere in caratteri:\n",
    "        dizionario[carattere] = stringa.count(carattere)\n",
    "    return dizionario\n",
    "\n",
    "stringa = \"hello world\"\n",
    "caratteri = set(\"helloworld\")\n",
    "dizionario = count_chars(stringa, caratteri)\n",
    "print(dizionario)\n"
   ]
  },
  {
   "cell_type": "code",
   "execution_count": 35,
   "metadata": {},
   "outputs": [
    {
     "name": "stdout",
     "output_type": "stream",
     "text": [
      "{'b', 'c'}\n"
     ]
    }
   ],
   "source": [
    "\"\"\" \n",
    "es 5\n",
    "dati due dizionari verificare se ci sono chiavi in comune\n",
    "\"\"\"\n",
    "def chiavi_in_comune(dizionario1, dizionario2):\n",
    "    return set(dizionario1.keys()) & set(dizionario2.keys())\n",
    "\n",
    "dizionario1 = {\"a\": 1, \"b\": 2, \"c\": 3}\n",
    "dizionario2 = {\"b\": 4, \"c\": 5, \"d\": 6}\n",
    "\n",
    "chiavi_comuni = chiavi_in_comune(dizionario1, dizionario2)\n",
    "print(chiavi_comuni)"
   ]
  },
  {
   "cell_type": "code",
   "execution_count": 36,
   "metadata": {},
   "outputs": [
    {
     "name": "stdout",
     "output_type": "stream",
     "text": [
      "{'a': 254, 'b': 770, 'c': 602, 'd': 25, 'e': 322}\n",
      "394.6\n",
      "3\n",
      "2\n"
     ]
    }
   ],
   "source": [
    "\"\"\" \n",
    "es 6\n",
    "generare un dizionario con chiavi le prime k lettere\n",
    "dell'alfabeto e assegnare loro un valore intero random\n",
    "tra 1 e N.\n",
    "calcolare il valore medio nel dizionario\n",
    "calcolare quanti item hanno valore sotto la media\n",
    "calcolare quanti item hanno valore sopra la media\n",
    "\"\"\"\n",
    "import random\n",
    "import string\n",
    "\n",
    "def genera_dizionario(k, N):\n",
    "    alfabeto = string.ascii_lowercase\n",
    "    dizionario = {alfabeto[i]: random.randint(1, N) for i in range(k)}\n",
    "    return dizionario\n",
    "\n",
    "def calcola_media(dizionario):\n",
    "    return sum(dizionario.values()) / len(dizionario)\n",
    "\n",
    "def conta_sotto_media(dizionario, media):\n",
    "    return sum(1 for valore in dizionario.values() if valore < media)\n",
    "\n",
    "def conta_sopra_media(dizionario, media):\n",
    "    return sum(1 for valore in dizionario.values() if valore > media)\n",
    "\n",
    "k = 5\n",
    "N = 10**3\n",
    "dizionario = genera_dizionario(k, N)\n",
    "print(dizionario)\n",
    "\n",
    "media = calcola_media(dizionario)\n",
    "print(media)\n",
    "\n",
    "sotto_media = conta_sotto_media(dizionario, media)\n",
    "print(sotto_media)\n",
    "\n",
    "sopra_media = conta_sopra_media(dizionario, media)\n",
    "print(sopra_media)"
   ]
  },
  {
   "cell_type": "code",
   "execution_count": 37,
   "metadata": {},
   "outputs": [
    {
     "name": "stdout",
     "output_type": "stream",
     "text": [
      "Codificata: ;\n",
      "Decodificata: 5\n"
     ]
    }
   ],
   "source": [
    "\"\"\" \n",
    "data una stringa codicarla con il metodo root_k\n",
    "che consiste nello scivolare il codice ASCII di ogni carattere di k\n",
    "scrivere un encoding e un decoding \n",
    "\"\"\"\n",
    "def root_k_encode(s, k):\n",
    "    encoded_s = \"\"\n",
    "    for char in s:\n",
    "        encoded_s += chr(ord(char) + k)  # scivolare il codice ASCII di 3 posizioni\n",
    "    return encoded_s\n",
    "\n",
    "def root_k_decode(s, k):\n",
    "    decoded_s = \"\"\n",
    "    for char in s:\n",
    "        decoded_s += chr(ord(char) - k)  # scivolare il codice ASCII di 3 posizioni in senso inverso\n",
    "    return decoded_s\n",
    "\n",
    "# esempio di utilizzo\n",
    "s = input()\n",
    "k = int(input())\n",
    "encoded_s = root_k_encode(s, k)\n",
    "print(\"Codificata:\", encoded_s)\n",
    "\n",
    "decoded_s = root_k_decode(encoded_s, k)\n",
    "print(\"Decodificata:\", decoded_s)"
   ]
  },
  {
   "cell_type": "markdown",
   "metadata": {},
   "source": [
    "# Oggetti"
   ]
  },
  {
   "cell_type": "code",
   "execution_count": 51,
   "metadata": {},
   "outputs": [
    {
     "name": "stdout",
     "output_type": "stream",
     "text": [
      "<class 'type'>\n",
      "<class '__main__.Oggetto'>\n",
      "oggetto\n",
      "Ciao, mi chiamo Alice e ho 25 anni.\n",
      "Ciao, mi chiamo Bob e ho 30 anni.\n"
     ]
    }
   ],
   "source": [
    "class Oggetto:\n",
    "    pass\n",
    "\n",
    "    def __str__(self):\n",
    "        return \"oggetto\"\n",
    "    def __repr__(self):\n",
    "        return \"sempre un oggetto\"\n",
    "        pass\n",
    "        pass\n",
    "print(type(Oggetto))\n",
    "\n",
    "\n",
    "P = Oggetto()\n",
    "print(type(P))\n",
    "\n",
    "P.__doc__\n",
    "\n",
    "print(P)\n",
    "\n",
    "class Persona:\n",
    "    def __init__(self, nome, anni):\n",
    "        self.nome = nome\n",
    "        self.anni = anni\n",
    "\n",
    "    def saluta(self):\n",
    "        print(f\"Ciao, mi chiamo {self.nome} e ho {self.anni} anni.\")\n",
    "\n",
    "\n",
    "# Creazione di un oggetto Person\n",
    "persona1 = Persona(\"Alice\", 25)\n",
    "persona2 = Persona(\"Bob\", 30)\n",
    "\n",
    "# Utilizzo dei metodi dell'oggetto Person\n",
    "persona1.saluta()\n",
    "persona2.saluta()"
   ]
  }
 ],
 "metadata": {
  "kernelspec": {
   "display_name": "Python 3",
   "language": "python",
   "name": "python3"
  },
  "language_info": {
   "codemirror_mode": {
    "name": "ipython",
    "version": 3
   },
   "file_extension": ".py",
   "mimetype": "text/x-python",
   "name": "python",
   "nbconvert_exporter": "python",
   "pygments_lexer": "ipython3",
   "version": "3.11.9"
  }
 },
 "nbformat": 4,
 "nbformat_minor": 2
}
