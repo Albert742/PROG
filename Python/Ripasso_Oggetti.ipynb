{
 "cells": [
  {
   "cell_type": "markdown",
   "metadata": {},
   "source": [
    "# Oggetti"
   ]
  },
  {
   "cell_type": "code",
   "execution_count": null,
   "metadata": {},
   "outputs": [],
   "source": []
  },
  {
   "cell_type": "code",
   "execution_count": null,
   "metadata": {},
   "outputs": [],
   "source": [
    "class Codice_Cesare:\n",
    "# Cell:\n",
    "    alfabeto = \"abcdefghijklmnopqrstuvwxyz .,;:!?\"+\"\\n\"\n",
    "    L = len(alfabeto)\n",
    "    \n",
    "    def __init__(self, shift):\n",
    "        self.s = shift\n",
    "    \n",
    "    def encode(self, message):\n",
    "        encoded = \"\"\n",
    "        for c in message:\n",
    "            pos_c = self.alfabeto.find(c)\n",
    "            encoded += self.alfabeto[(pos_c+self.s)%self.L]\n",
    "        return encoded\n",
    "    def decode(self, message):\n",
    "        decoded = \"\"\n",
    "        for c in message:\n",
    "            pos_c = self.alfabeto.find(c)\n",
    "            decoded += self.alfabeto[(pos_c-self.s)%self.L]\n",
    "        return decoded\n",
    "\n",
    "C = Codice_Cesare(1)\n",
    "print(C.encode(\"ciao\"))\n",
    "\n",
    "D = Codice_Cesare(1)\n",
    "print(D.decode(C.encode(\"ciao\")))"
   ]
  },
  {
   "cell_type": "code",
   "execution_count": 4,
   "metadata": {},
   "outputs": [
    {
     "name": "stdout",
     "output_type": "stream",
     "text": [
      "Messaggio codificato: fkdq!,pqqfr\n",
      "\n",
      "Messaggio decodificato: ciao, mondo!\n"
     ]
    }
   ],
   "source": [
    "class Codice_Vigenere:\n",
    "    alfabeto = \"abcdefghijklmnopqrstuvwxyz .,;:!?\"+\"\\n\"\n",
    "    L = len(alfabeto)\n",
    "    \n",
    "    def __init__(self, chiave):\n",
    "        self.c = chiave\n",
    "        self.lc = len(chiave)\n",
    "    \n",
    "    def corrisponde_avanti(self, carattere, controllo):\n",
    "        riga = self.alfabeto.find(carattere)\n",
    "        colonna = self.alfabeto.find(controllo)\n",
    "        return self.alfabeto[(riga+colonna)%self.L]\n",
    "\n",
    "    def corrisponde_indietro(self, carattere, controllo):\n",
    "        riga = self.alfabeto.find(carattere)\n",
    "        colonna = self.alfabeto.find(controllo)\n",
    "        return self.alfabeto[(riga-colonna)%self.L]\n",
    "            \n",
    "    def encode(self, message):\n",
    "        encoded = \"\"\n",
    "        pos_c = 0\n",
    "        for c in message:\n",
    "            encoded += self.corrisponde_avanti(c,self.c[pos_c])\n",
    "            pos_c = (pos_c+1)%self.lc\n",
    "        return encoded\n",
    "    def decode(self, message):\n",
    "        decoded = \"\"\n",
    "        pos_c = 0\n",
    "        for c in message:\n",
    "            decoded += self.corrisponde_indietro(c,self.c[pos_c])\n",
    "            pos_c = (pos_c + 1) % self.lc\n",
    "        return decoded\n",
    "\n",
    "# Crea un'istanza della classe Codice_Vigenere con una chiave\n",
    "vigenere = Codice_Vigenere(\"dc\")\n",
    "\n",
    "# Messaggio da codificare\n",
    "messaggio = \"ciao, mondo!\"\n",
    "\n",
    "# Codifica il messaggio\n",
    "messaggio_codificato = vigenere.encode(messaggio)\n",
    "print(\"Messaggio codificato:\", messaggio_codificato)\n",
    "\n",
    "# Decodifica il messaggio\n",
    "messaggio_decodificato = vigenere.decode(messaggio_codificato)\n",
    "print(\"Messaggio decodificato:\", messaggio_decodificato)\n"
   ]
  },
  {
   "cell_type": "code",
   "execution_count": 20,
   "metadata": {},
   "outputs": [
    {
     "name": "stdout",
     "output_type": "stream",
     "text": [
      "1000010111010111011111101110100111011000011110100110000111011001100101\n",
      "\n",
      "\n",
      "617236266871141463653\n",
      "\n",
      "\n",
      "BuonNatale\n"
     ]
    }
   ],
   "source": [
    "class String2bin:\n",
    "    \"\"\"\n",
    "    Convertire una stinga in seguenxe binarie\n",
    "    ha solo bisogno di funzioni per funzionare\n",
    "    \"\"\"\n",
    "    def char2bin(self, c):\n",
    "        return bin(ord(c))[2:]\n",
    "    def string2bin(self, s):\n",
    "        b = \"\"\n",
    "        for c in s:\n",
    "            b +=self.char2bin(c)\n",
    "        return b\n",
    "    def bin2dec(self, n):\n",
    "        return int(n,2)\n",
    "    def bin2string(self, b):\n",
    "        if len(b)%7 != 0:\n",
    "            print(\"Attenzione: numero non multiplo di 8\")\n",
    "        indice = 0\n",
    "        s = \"\"\n",
    "        while indice<len(b):\n",
    "            c = b[indice:indice+7]\n",
    "            indice += 7\n",
    "            s += chr(int(c, 2))\n",
    "        return s\n",
    "# esempi\n",
    "C = String2bin()\n",
    "b = C.string2bin(\"BuonNatale\")\n",
    "print(b)\n",
    "print(\"\\n\")\n",
    "print(C.bin2dec(b))\n",
    "print(\"\\n\")\n",
    "print(C.bin2string(b))"
   ]
  }
 ],
 "metadata": {
  "kernelspec": {
   "display_name": "Python 3",
   "language": "python",
   "name": "python3"
  },
  "language_info": {
   "codemirror_mode": {
    "name": "ipython",
    "version": 3
   },
   "file_extension": ".py",
   "mimetype": "text/x-python",
   "name": "python",
   "nbconvert_exporter": "python",
   "pygments_lexer": "ipython3",
   "version": "3.11.9"
  }
 },
 "nbformat": 4,
 "nbformat_minor": 2
}
