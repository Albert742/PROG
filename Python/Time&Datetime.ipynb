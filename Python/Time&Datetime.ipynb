{
 "cells": [
  {
   "cell_type": "markdown",
   "metadata": {},
   "source": [
    "# Librerie Date e Time"
   ]
  },
  {
   "cell_type": "code",
   "execution_count": 23,
   "metadata": {},
   "outputs": [
    {
     "name": "stdout",
     "output_type": "stream",
     "text": [
      "time.struct_time(tm_year=2001, tm_mon=9, tm_mday=9, tm_hour=1, tm_min=46, tm_sec=40, tm_wday=6, tm_yday=252, tm_isdst=0)\n",
      "time.struct_time(tm_year=1970, tm_mon=1, tm_mday=2, tm_hour=3, tm_min=46, tm_sec=40, tm_wday=4, tm_yday=2, tm_isdst=0)\n",
      "100000.0\n",
      "time.struct_time(tm_year=2025, tm_mon=1, tm_mday=29, tm_hour=9, tm_min=36, tm_sec=56, tm_wday=2, tm_yday=29, tm_isdst=0)\n",
      "1760087410.0\n",
      "Thu Oct 10 10:10:10 2025\n",
      "2025-10-10 10:10:10\n",
      "time.struct_time(tm_year=2025, tm_mon=8, tm_mday=7, tm_hour=10, tm_min=10, tm_sec=10, tm_wday=4, tm_yday=219, tm_isdst=-1)\n",
      "time.struct_time(tm_year=2025, tm_mon=8, tm_mday=7, tm_hour=10, tm_min=10, tm_sec=10, tm_wday=4, tm_yday=219, tm_isdst=-1)\n",
      "Fri Aug 7 10:10:10 2025\n",
      "time.struct_time(tm_year=2025, tm_mon=8, tm_mday=7, tm_hour=10, tm_min=10, tm_sec=10, tm_wday=3, tm_yday=219, tm_isdst=-1)\n",
      "time.struct_time(tm_year=2025, tm_mon=1, tm_mday=29, tm_hour=9, tm_min=32, tm_sec=11, tm_wday=2, tm_yday=29, tm_isdst=-1)\n",
      "2025-10-10\n",
      "1760047200.0\n",
      "time.struct_time(tm_year=2025, tm_mon=10, tm_mday=10, tm_hour=0, tm_min=0, tm_sec=0, tm_wday=4, tm_yday=283, tm_isdst=1)\n",
      "2025-01-29 09:36:56.187459\n",
      "2025-01-29T09:36:56.187459\n",
      "2025-01-29 09:36:56\n"
     ]
    }
   ],
   "source": [
    "import time\n",
    "import datetime\n",
    "\n",
    "print(time.gmtime(10**9))\n",
    "T = time.gmtime(100000)\n",
    "\n",
    "print(T)\n",
    "\n",
    "LT = time.localtime(100000)\n",
    "\n",
    "print(time.mktime(LT))\n",
    "\n",
    "now = time.localtime(time.time())\n",
    "\n",
    "print(now)\n",
    "\n",
    "time_tuple = (2025, 10, 10, 10, 10, 10, 3, 283, 0)\n",
    "\n",
    "print(time.mktime(time_tuple))\n",
    "print(time.asctime(time_tuple))\n",
    "print(time.strftime(\"%Y-%m-%d %H:%M:%S\", time_tuple))\n",
    "\n",
    "st ='Fri Aug 7 10:10:10 2025'\n",
    "\n",
    "time_struct = time.strptime(st)\n",
    "\n",
    "print(time_struct)\n",
    "\n",
    "print(time.strptime(st)) \n",
    "\n",
    "print(st)\n",
    "\n",
    "st2 = '2025-08-07 10:10:10'\n",
    "st3 = '2025-01-29T09:32:11.895089'\n",
    "\n",
    "print(time.strptime(st2, \"%Y-%m-%d %H:%M:%S\"))\n",
    "print(time.strptime(st3, \"%Y-%m-%dT%H:%M:%S.%f\"))\n",
    "\n",
    "D = datetime.date(2025, 10, 10)\n",
    "\n",
    "print(D)\n",
    "\n",
    "print(time.mktime(D.timetuple()))\n",
    "print(time.localtime(time.mktime(D.timetuple())))\n",
    "\n",
    "print(datetime.datetime.now())\n",
    "print(datetime.datetime.now().isoformat())\n",
    "print(datetime.datetime.now().strftime(\"%Y-%m-%d %H:%M:%S\"))"
   ]
  }
 ],
 "metadata": {
  "kernelspec": {
   "display_name": "Python 3",
   "language": "python",
   "name": "python3"
  },
  "language_info": {
   "codemirror_mode": {
    "name": "ipython",
    "version": 3
   },
   "file_extension": ".py",
   "mimetype": "text/x-python",
   "name": "python",
   "nbconvert_exporter": "python",
   "pygments_lexer": "ipython3",
   "version": "3.11.9"
  }
 },
 "nbformat": 4,
 "nbformat_minor": 2
}
