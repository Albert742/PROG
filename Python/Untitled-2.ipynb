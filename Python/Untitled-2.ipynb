{
 "cells": [
  {
   "cell_type": "markdown",
   "metadata": {},
   "source": [
    "# Ripasso"
   ]
  },
  {
   "cell_type": "markdown",
   "metadata": {},
   "source": [
    "esercizi nel compito:\n",
    "- liste\n",
    "- stringhe\n",
    "- dizionari\n",
    "- oggetti"
   ]
  },
  {
   "cell_type": "code",
   "execution_count": 38,
   "metadata": {},
   "outputs": [
    {
     "name": "stdout",
     "output_type": "stream",
     "text": [
      "Lista generata:  ['a', 'p', 'd', 'a', 'q', 'p', 'p', 'p', 'q', 'b', 'q', 'a', 'd', 'p', 'e']\n",
      "Carattere più frequente:  p\n",
      "Nel caso ci siano più caratteri frequenti:  ['p']\n"
     ]
    }
   ],
   "source": [
    "\"\"\"\n",
    "Esercizi List\n",
    "es1 creare una funzione che crei una lista di caratteri \n",
    "presi a caso da un insieme\n",
    "di caratteri dati\n",
    "data una lista di caratteri restituire il carattere più frequente\n",
    "\n",
    "\"\"\"\n",
    "import random\n",
    "\n",
    "def crea_lista_caratteri(insieme, lunghezza):\n",
    "    return [random.choice(list(insieme)) for _ in range(lunghezza)]\n",
    "\n",
    "def carattere_piu_frequente(lista):\n",
    "    più_freq = 0\n",
    "    carattere_freq = None\n",
    "    for carattere in set(lista):\n",
    "        freq = lista.count(carattere)\n",
    "        if freq >  più_freq:\n",
    "            più_freq = freq\n",
    "            carattere_freq = carattere\n",
    "    return carattere_freq\n",
    "\n",
    "\n",
    "def caratteri_piu_frequenti(lista):\n",
    "    frequenze = {}\n",
    "    for carattere in set(lista):\n",
    "        freq = lista.count(carattere)\n",
    "        if freq in frequenze:\n",
    "            frequenze[freq].append(carattere)\n",
    "        else:\n",
    "            frequenze[freq] = [carattere]\n",
    "    max_freq = max(frequenze.keys())\n",
    "    return frequenze[max_freq]\n",
    "\n",
    "# Utilizzo\n",
    "insieme = {'a', 'b', 'c', 'd', 'e', 'f', 'z', 'p', 'q'}\n",
    "lista = crea_lista_caratteri(insieme, 15)\n",
    "print(\"Lista generata: \", lista)\n",
    "print(\"Carattere più frequente: \", carattere_piu_frequente(lista))\n",
    "print(\"Nel caso ci siano più caratteri frequenti: \", caratteri_piu_frequenti(lista))\n"
   ]
  },
  {
   "cell_type": "code",
   "execution_count": 5,
   "metadata": {},
   "outputs": [
    {
     "name": "stdout",
     "output_type": "stream",
     "text": [
      "['Rossi', 'Biondi']\n"
     ]
    }
   ],
   "source": [
    "\"\"\"\n",
    "Esercizi String\n",
    "data una lettera maiuscola\n",
    "restituire la lista di tutti i cognomi dei soggetti \n",
    "il cui nome comincia con quella lettera\n",
    "\n",
    "\"\"\"\n",
    "def trova_cognomi_iniziali_del_nome_con_lettera(elemento, lettera):\n",
    "    cognomi = []\n",
    "    for chiave, valore in elemento.items():\n",
    "        if valore[1].startswith(lettera):\n",
    "            cognomi.append(valore[0])\n",
    "    return cognomi\n",
    "\n",
    "# Esempio di utilizzo\n",
    "D = {\n",
    "    1: (\"Rossi\", \"Mario\"),\n",
    "    2: (\"Verdi\", \"Giuseppa\"),\n",
    "    3: (\"Bianchi\", \"Daniele\"),\n",
    "    4: (\"Biondi\", \"Matteo\")\n",
    "}\n",
    "lettera = \"M\"\n",
    "risultato = trova_cognomi_iniziali_del_nome_con_lettera(D, lettera)\n",
    "print(risultato)"
   ]
  },
  {
   "cell_type": "code",
   "execution_count": 50,
   "metadata": {},
   "outputs": [
    {
     "name": "stdout",
     "output_type": "stream",
     "text": [
      "La password corretta generata in precedenza è: dbcabacc\n",
      "La password corretta è: dbcabacc\n"
     ]
    }
   ],
   "source": [
    "\"\"\"\n",
    "secreta= parola di 4 caratteri da un alfabeto.\n",
    "cercare ka parola segreta con la forza bruta \"\"\"\n",
    "\n",
    "import string\n",
    "import random\n",
    "\n",
    "def generate_random_password(charset, password_length):\n",
    "    password = ''.join(random.choices(charset, k=password_length))\n",
    "    return password\n",
    "\n",
    "def brute_force_password(charset, password_length):\n",
    "    correct_password = generate_random_password(charset, password_length)\n",
    "    print(f\"La password corretta generata in precedenza è: {correct_password}\")\n",
    "    for i in range(len(charset) ** password_length):\n",
    "        password = ''.join([charset[i // (len(charset) ** j) % len(charset)] for j in range(password_length)])\n",
    "        if password == correct_password:\n",
    "            return password\n",
    "    return None\n",
    "\n",
    "# Dizionario di caratteri\n",
    "charset = string.ascii_lowercase[:5]\n",
    "\n",
    "# Cerca la password utilizzando la forza bruta\n",
    "password = brute_force_password(charset, 8)\n",
    "if password:\n",
    "    print(f\"La password corretta è: {password}\")\n",
    "else:\n",
    "    print(\"La password non è stata trovata.\")"
   ]
  },
  {
   "cell_type": "code",
   "execution_count": 64,
   "metadata": {},
   "outputs": [
    {
     "name": "stdout",
     "output_type": "stream",
     "text": [
      "La password corretta generata in precedenza è: aaca\n",
      "Provo la password: aaaa\n",
      "Provo la password: baaa\n",
      "Provo la password: caaa\n",
      "Provo la password: abaa\n",
      "Provo la password: bbaa\n",
      "Provo la password: cbaa\n",
      "Provo la password: acaa\n",
      "Provo la password: bcaa\n",
      "Provo la password: ccaa\n",
      "Provo la password: aaba\n",
      "Provo la password: baba\n",
      "Provo la password: caba\n",
      "Provo la password: abba\n",
      "Provo la password: bbba\n",
      "Provo la password: cbba\n",
      "Provo la password: acba\n",
      "Provo la password: bcba\n",
      "Provo la password: ccba\n",
      "Provo la password: aaca\n",
      "La password corretta è stata trovata: aaca\n",
      "La password corretta è: aaca\n"
     ]
    }
   ],
   "source": [
    "import string\n",
    "import random\n",
    "\n",
    "def generate_random_password(charset, password_length):\n",
    "    password = ''.join(random.choices(charset, k=password_length))\n",
    "    return password\n",
    "\n",
    "def brute_force_password(charset, password_length):\n",
    "    correct_password = generate_random_password(charset, password_length)\n",
    "    print(f\"La password corretta generata in precedenza è: {correct_password}\")\n",
    "    total_combinations = len(charset) ** password_length\n",
    "    for i in range(total_combinations):\n",
    "        password = ''.join([charset[i // (len(charset) ** j) % len(charset)] for j in range(password_length)])\n",
    "        print(f\"Provo la password: {password}\")\n",
    "        if password == correct_password:\n",
    "            print(f\"La password corretta è stata trovata: {password}\")\n",
    "            return password\n",
    "    print(\"La password non è stata trovata.\")\n",
    "    return None\n",
    "\n",
    "# Dizionario di caratteri\n",
    "charset = string.ascii_lowercase[:3]\n",
    "\n",
    "# Cerca la password utilizzando la forza bruta\n",
    "password = brute_force_password(charset, 4)\n",
    "if password:\n",
    "    print(f\"La password corretta è: {password}\")\n",
    "else:\n",
    "    print(\"La password non è stata trovata.\")"
   ]
  },
  {
   "cell_type": "code",
   "execution_count": 83,
   "metadata": {},
   "outputs": [
    {
     "name": "stdout",
     "output_type": "stream",
     "text": [
      "Il codice Unicode di # è 35\n",
      "Il carattere corrispondente al codice Unicode 35 è #\n",
      "bmjdf\n",
      "alice\n"
     ]
    }
   ],
   "source": [
    "\"\"\"\n",
    "scrivere una funzione che crittografi una stringa usando una chiave numerica come segue\n",
    "ogni carattere della stringa viene cambiato con il carattere che ha come codice quello del carattere \n",
    "iniziale aumentato della chiave\n",
    "esempio \n",
    "\"alice, 1 -< \"bmhdf\"\n",
    "\"\"\"\n",
    "char = '#'\n",
    "unicode_val = ord(char)\n",
    "print(f'Il codice Unicode di {char} è {unicode_val}')\n",
    "unicode_val = 35\n",
    "char = chr(unicode_val)\n",
    "print(f\"Il carattere corrispondente al codice Unicode {unicode_val} è {char}\")\n",
    "\n",
    "def encrypt_string(stringa_input, key):\n",
    "    stringa_criptata = \"\"\n",
    "    for char in stringa_input:\n",
    "        char_criptato = chr(ord(char) + key)\n",
    "        stringa_criptata += char_criptato\n",
    "    return stringa_criptata\n",
    "\n",
    "# Esempio di utilizzo\n",
    "stringa_input = \"alice\"\n",
    "chiave  = 1\n",
    "output_criptato = encrypt_string(stringa_input, chiave)\n",
    "print(output_criptato)\n",
    "\n",
    "def decifra_stringa(stringa_cifrata, chiave):\n",
    "    stringa_decifrata = \"\"\n",
    "    for char in stringa_cifrata:\n",
    "        char_decifrato = chr(ord(char) - chiave)\n",
    "        stringa_decifrata += char_decifrato\n",
    "    return stringa_decifrata\n",
    "\n",
    "# Esempio di utilizzo\n",
    "stringa_cifrata = \"bmjdf\"\n",
    "chiave = 1\n",
    "output_decifrato = decifra_stringa(stringa_cifrata, chiave)\n",
    "print(output_decifrato)"
   ]
  }
 ],
 "metadata": {
  "kernelspec": {
   "display_name": "Python 3",
   "language": "python",
   "name": "python3"
  },
  "language_info": {
   "codemirror_mode": {
    "name": "ipython",
    "version": 3
   },
   "file_extension": ".py",
   "mimetype": "text/x-python",
   "name": "python",
   "nbconvert_exporter": "python",
   "pygments_lexer": "ipython3",
   "version": "3.11.7"
  }
 },
 "nbformat": 4,
 "nbformat_minor": 2
}
