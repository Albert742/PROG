file1 = open("esempio.txt", "w")
print(type(file1))